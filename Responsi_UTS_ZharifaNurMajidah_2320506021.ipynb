{
  "nbformat": 4,
  "nbformat_minor": 0,
  "metadata": {
    "colab": {
      "provenance": []
    },
    "kernelspec": {
      "name": "python3",
      "display_name": "Python 3"
    },
    "language_info": {
      "name": "python"
    }
  },
  "cells": [
    {
      "cell_type": "code",
      "source": [
        "import findspark\n",
        "findspark.init()"
      ],
      "metadata": {
        "id": "P6fASyhBs13-"
      },
      "execution_count": 140,
      "outputs": []
    },
    {
      "cell_type": "code",
      "source": [
        "from pyspark.sql import SparkSession\n",
        "from pyspark.sql.functions import sum, max, month, year\n",
        "import matplotlib.pyplot as plt\n",
        "\n",
        "# Membuat SparkSession\n",
        "spark = SparkSession.builder.appName(\"Analisis Penjualan\").getOrCreate()\n",
        "\n",
        "# Data sample\n",
        "data = [('P001', 'Product A', 'Electronics', 10, 200, '2022-01-10'),\n",
        "    ('P002', 'Product B', 'Electronics', 30, 150, '2022-03-11'),\n",
        "    ('P003', 'Product C', 'Clothing', 20, 100, '2022-02-10'),\n",
        "    ('P004', 'Product D', 'Clothing', 15, 120, '2022-02-12'),\n",
        "    ('P005', 'Product E', 'Kitchen', 25, 90, '2022-04-13'),\n",
        "    ('P006', 'Product F', 'Kitchen', 5, 300, '2022-01-14')]\n",
        "\n",
        "# Membuat DataFrame PySpark\n",
        "columns = ['ProductID', 'ProductName', 'Category', 'Quantity', 'Price', 'Date']\n",
        "df = spark.createDataFrame(data, columns)\n",
        "\n",
        "\n",
        "print(\"Data Penjualan Perusahaan :\\n\")\n",
        "df.show()"
      ],
      "metadata": {
        "colab": {
          "base_uri": "https://localhost:8080/"
        },
        "id": "WJpApTLlaJaq",
        "outputId": "452ed5f2-14b3-4315-89a3-c1ca6895d1d1"
      },
      "execution_count": 141,
      "outputs": [
        {
          "output_type": "stream",
          "name": "stdout",
          "text": [
            "Data Penjualan Perusahaan :\n",
            "\n",
            "+---------+-----------+-----------+--------+-----+----------+\n",
            "|ProductID|ProductName|   Category|Quantity|Price|      Date|\n",
            "+---------+-----------+-----------+--------+-----+----------+\n",
            "|     P001|  Product A|Electronics|      10|  200|2022-01-10|\n",
            "|     P002|  Product B|Electronics|      30|  150|2022-03-11|\n",
            "|     P003|  Product C|   Clothing|      20|  100|2022-02-10|\n",
            "|     P004|  Product D|   Clothing|      15|  120|2022-02-12|\n",
            "|     P005|  Product E|    Kitchen|      25|   90|2022-04-13|\n",
            "|     P006|  Product F|    Kitchen|       5|  300|2022-01-14|\n",
            "+---------+-----------+-----------+--------+-----+----------+\n",
            "\n"
          ]
        }
      ]
    },
    {
      "cell_type": "code",
      "source": [
        "# Menambahkan kolom Pendapatan untuk menghitung total pendapatan\n",
        "df = df.withColumn('Total_Pendapatan', df['Quantity'] * df['Price'])\n",
        "\n",
        "# Menambahkan kolom bulan dan tahun dari kolom Date (karena tidak ada secara spesifik)\n",
        "df = df.withColumn('Month', month(df['Date']))\n",
        "df = df.withColumn('Year', year(df['Date']))\n",
        "\n",
        "# Menghitung total pendapatan per kategori setiap bulan\n",
        "pendapatan_kategori = df.groupBy('Category', 'Year', 'Month').agg(sum('Total_Pendapatan'))\n",
        "\n",
        "\n",
        "print(\"Total pendapatan untuk setiap kategorinya :\\n\")\n",
        "pendapatan_kategori.orderBy('Year', 'Month', 'Category').show()"
      ],
      "metadata": {
        "colab": {
          "base_uri": "https://localhost:8080/"
        },
        "id": "CY4jIfuKb2Fz",
        "outputId": "f316e7b5-0ea0-400c-c997-4b4924bb9473"
      },
      "execution_count": 142,
      "outputs": [
        {
          "output_type": "stream",
          "name": "stdout",
          "text": [
            "Total pendapatan untuk setiap kategorinya :\n",
            "\n",
            "+-----------+----+-----+---------------------+\n",
            "|   Category|Year|Month|sum(Total_Pendapatan)|\n",
            "+-----------+----+-----+---------------------+\n",
            "|Electronics|2022|    1|                 2000|\n",
            "|    Kitchen|2022|    1|                 1500|\n",
            "|   Clothing|2022|    2|                 3800|\n",
            "|Electronics|2022|    3|                 4500|\n",
            "|    Kitchen|2022|    4|                 2250|\n",
            "+-----------+----+-----+---------------------+\n",
            "\n"
          ]
        }
      ]
    },
    {
      "cell_type": "code",
      "source": [
        "# Menghitung penjualan tertinggi per kategori\n",
        "penjualan_tertinggi = df.groupBy('Category').agg(max('Quantity').alias('Penjualan'))\n",
        "\n",
        "print(\"Penjualan Produk Tertinggi pada Masing-masing Kategori :\\n\")\n",
        "penjualan_tertinggi.show()\n"
      ],
      "metadata": {
        "colab": {
          "base_uri": "https://localhost:8080/"
        },
        "id": "HqdBh7g0c1vS",
        "outputId": "f83671d8-9ba8-4daf-fa95-d16d20b61c84"
      },
      "execution_count": 152,
      "outputs": [
        {
          "output_type": "stream",
          "name": "stdout",
          "text": [
            "Penjualan Produk Tertinggi pada Masing-masing Kategori :\n",
            "\n",
            "+-----------+---------+\n",
            "|   Category|Penjualan|\n",
            "+-----------+---------+\n",
            "|Electronics|       30|\n",
            "|   Clothing|       20|\n",
            "|    Kitchen|       25|\n",
            "+-----------+---------+\n",
            "\n"
          ]
        }
      ]
    },
    {
      "cell_type": "code",
      "source": [
        "# Menghitung total pendapatan per bulan dan tahun\n",
        "tren_bulanan = df.groupBy('Category', 'Month').agg(sum('Quantity').alias('Penjualan Bulanan'))\n",
        "\n",
        "\n",
        "print('Tren Penjualan Bulanan Pada Semua Kategori :\\n')\n",
        "tren_bulanan.orderBy('Month', 'Category').show()"
      ],
      "metadata": {
        "colab": {
          "base_uri": "https://localhost:8080/"
        },
        "id": "BcCmhP0zeT07",
        "outputId": "0a445f3c-1392-4aea-b842-bf9f945c761d"
      },
      "execution_count": 145,
      "outputs": [
        {
          "output_type": "stream",
          "name": "stdout",
          "text": [
            "Tren Penjualan Bulanan Pada Semua Kategori :\n",
            "\n",
            "+-----------+-----+-----------------+\n",
            "|   Category|Month|Penjualan Bulanan|\n",
            "+-----------+-----+-----------------+\n",
            "|Electronics|    1|               10|\n",
            "|    Kitchen|    1|                5|\n",
            "|   Clothing|    2|               35|\n",
            "|Electronics|    3|               30|\n",
            "|    Kitchen|    4|               25|\n",
            "+-----------+-----+-----------------+\n",
            "\n"
          ]
        }
      ]
    },
    {
      "cell_type": "code",
      "source": [
        "# Menghitung total pendapatan per kategori setiap bulan\n",
        "pendapatan_kategori = df.groupBy('Category', 'Year', 'Month').agg(sum('Total_Pendapatan').alias('PendapatanBulanan'))\n",
        "\n",
        "# Mengumpulkan hasil ke dalam Pandas DataFrame untuk visualisasi\n",
        "total_pendapatan_kategori = pendapatan_kategori.toPandas()\n",
        "\n",
        "# Membuat visualisasi menggunakan Matplotlib\n",
        "\n",
        "plt.bar(total_pendapatan_kategori['Category'], total_pendapatan_kategori['PendapatanBulanan'], color=('red'))\n",
        "plt.title('Total Pendapatan by Kategori')\n",
        "plt.xlabel('Kategori')\n",
        "plt.ylabel('Total Pendapatan')\n",
        "\n",
        "# Menampilkan grafik\n",
        "plt.show()"
      ],
      "metadata": {
        "colab": {
          "base_uri": "https://localhost:8080/",
          "height": 472
        },
        "id": "PmVFXhIAghAD",
        "outputId": "46c985f9-653a-48cf-f755-ce99ce23f0e2"
      },
      "execution_count": 151,
      "outputs": [
        {
          "output_type": "display_data",
          "data": {
            "text/plain": [
              "<Figure size 640x480 with 1 Axes>"
            ],
            "image/png": "[encoded data removed]"
          },
          "metadata": {}
        }
      ]
    }
  ]
}