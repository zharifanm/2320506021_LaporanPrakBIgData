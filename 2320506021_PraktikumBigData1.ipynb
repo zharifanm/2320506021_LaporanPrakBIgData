{
 "cells": [
  {
   "cell_type": "markdown",
   "metadata": {
    "id": "QyhHbIFg86KJ"
   },
   "source": [
    "# **Hands-On Pertemuan 1: Pengenalan Big Data dan Overwiew Teknologi**"
   ]
  },
  {
   "cell_type": "markdown",
   "metadata": {
    "id": "BUcxTloL9MP0"
   },
   "source": [
    "### **Pengenalan dan Paktik Dasar PySpark dan Pandas**"
   ]
  },
  {
   "cell_type": "markdown",
   "metadata": {
    "id": "x9QD8Wn292pj"
   },
   "source": [
    "**Program Dasar PySpark**"
   ]
  },
  {
   "cell_type": "code",
   "execution_count": 2,
   "metadata": {
    "id": "6sD1Z9gw9__Q"
   },
   "outputs": [],
   "source": [
    "import findspark\n",
    "findspark.init()"
   ]
  },
  {
   "cell_type": "code",
   "execution_count": 3,
   "metadata": {
    "id": "GiJ0Ge4h-N4C"
   },
   "outputs": [
    {
     "name": "stdout",
     "output_type": "stream",
     "text": [
      "Data Mahasiswa:\n",
      "+-------+---+\n",
      "|   Nama|NPM|\n",
      "+-------+---+\n",
      "|Zharifa|123|\n",
      "|  Resnu|124|\n",
      "|   Dila|125|\n",
      "|   Gema|126|\n",
      "+-------+---+\n",
      "\n"
     ]
    }
   ],
   "source": [
    "from pyspark.sql import SparkSession\n",
    "\n",
    "# Memulai Spark Session\n",
    "spark = SparkSession.builder.appName(\"ManajemenKelas\").getOrCreate()\n",
    "\n",
    "# Program sederhana\n",
    "mahasiswa = [(\"Zharifa\", 123), (\"Resnu\", 124), (\"Dila\", 125), (\"Gema\", 126)]\n",
    "kolom = [\"Nama\", \"NPM\"]\n",
    "df_mahasiswa = spark.createDataFrame(mahasiswa, kolom)\n",
    "\n",
    "#menampilkan Data Frame\n",
    "print(\"Data Mahasiswa:\")\n",
    "df_mahasiswa.show()"
   ]
  },
  {
   "cell_type": "markdown",
   "metadata": {
    "id": "vamKNzqrCqdT"
   },
   "source": [
    "- **Tugas 1**: Jalankan kode di atas dan buat modifikasi dengan menambahkan data lain berupa kolom pekerjaan, hobi dan gender."
   ]
  },
  {
   "cell_type": "code",
   "execution_count": 4,
   "metadata": {
    "id": "TlxOqR6oDPUu"
   },
   "outputs": [
    {
     "name": "stdout",
     "output_type": "stream",
     "text": [
      "Data Mahasiswa:\n",
      "+-------+---+-------------------+-------------+----+------------+\n",
      "|   Nama|NPM|            Jurusan|         Hobi|Usia|Jeniskelamin|\n",
      "+-------+---+-------------------+-------------+----+------------+\n",
      "|Zharifa|123|Teknologi Informasi|Menonton film|  19|           P|\n",
      "|  Resnu|124|   Sistem Informasi| Bermain game|  19|           L|\n",
      "|   Dila|125|Teknologi Informasi|    Bernyanyi|  20|           P|\n",
      "|   Gema|126|Teknologi Informasi|      Membaca|  21|           L|\n",
      "+-------+---+-------------------+-------------+----+------------+\n",
      "\n"
     ]
    }
   ],
   "source": [
    "# Memulai Spark Session\n",
    "spark = SparkSession.builder.appName(\"ManajemenKelas\").getOrCreate()\n",
    "\n",
    "# Program sederhana\n",
    "mahasiswa = [(\"Zharifa\", 123, \"Teknologi Informasi\", \"Menonton film\", 19, \"P\"), (\"Resnu\", 124, \"Sistem Informasi\", \"Bermain game\", 19, \"L\"), (\"Dila\", 125, \"Teknologi Informasi\", \"Bernyanyi\", 20, \"P\"), (\"Gema\", 126, \"Teknologi Informasi\", \"Membaca\", 21, \"L\")]\n",
    "kolom = [\"Nama\", \"NPM\", \"Jurusan\", \"Hobi\", \"Usia\", \"Jeniskelamin\"]\n",
    "df_mahasiswa = spark.createDataFrame(mahasiswa, kolom)\n",
    "\n",
    "#menampilkan Data Frame\n",
    "print(\"Data Mahasiswa:\")\n",
    "df_mahasiswa.show()"
   ]
  },
  {
   "cell_type": "markdown",
   "metadata": {
    "id": "6USVr_syEUn3"
   },
   "source": [
    "**Praktik PySpark Lanjutan (Memanipulasi Data)**"
   ]
  },
  {
   "cell_type": "markdown",
   "metadata": {},
   "source": [
    "- **Tugas 2**: Lakukan filter, penghitungan rata-rata, dan pengurutan data menggunakan PySpark."
   ]
  },
  {
   "cell_type": "code",
   "execution_count": 5,
   "metadata": {
    "id": "0WP7yCVkFI70"
   },
   "outputs": [
    {
     "name": "stdout",
     "output_type": "stream",
     "text": [
      "Data Mahasiswa:\n",
      "+-------+---+-------------------+-------------+----+------------+\n",
      "|   Nama|NPM|            Jurusan|         Hobi|Usia|Jeniskelamin|\n",
      "+-------+---+-------------------+-------------+----+------------+\n",
      "|Zharifa|123|Teknologi Informasi|Menonton film|  20|           P|\n",
      "|  Resnu|124|   Sistem Informasi| Bermain game|  19|           L|\n",
      "|   Dila|125|Teknologi Informasi|    Bernyanyi|  21|           P|\n",
      "|   Gema|126|Teknologi Informasi|      Membaca|  22|           L|\n",
      "+-------+---+-------------------+-------------+----+------------+\n",
      "\n",
      "Mahasiswa berumur diatas 19 tahun:\n",
      "+-------+---+-------------------+-------------+----+------------+\n",
      "|   Nama|NPM|            Jurusan|         Hobi|Usia|Jeniskelamin|\n",
      "+-------+---+-------------------+-------------+----+------------+\n",
      "|Zharifa|123|Teknologi Informasi|Menonton film|  20|           P|\n",
      "|   Dila|125|Teknologi Informasi|    Bernyanyi|  21|           P|\n",
      "|   Gema|126|Teknologi Informasi|      Membaca|  22|           L|\n",
      "+-------+---+-------------------+-------------+----+------------+\n",
      "\n",
      "Mahasiswa jurusan Teknologi Informasi:\n",
      "+-------+---+-------------------+-------------+----+------------+\n",
      "|   Nama|NPM|            Jurusan|         Hobi|Usia|Jeniskelamin|\n",
      "+-------+---+-------------------+-------------+----+------------+\n",
      "|Zharifa|123|Teknologi Informasi|Menonton film|  20|           P|\n",
      "|   Dila|125|Teknologi Informasi|    Bernyanyi|  21|           P|\n",
      "|   Gema|126|Teknologi Informasi|      Membaca|  22|           L|\n",
      "+-------+---+-------------------+-------------+----+------------+\n",
      "\n",
      "Rata-rata usia Mahasiswa\n",
      "+---------+\n",
      "|avg(Usia)|\n",
      "+---------+\n",
      "|     20.5|\n",
      "+---------+\n",
      "\n",
      "Urutan mahasiswa berdasarkan usia:\n",
      "+-------+---+-------------------+-------------+----+------------+\n",
      "|   Nama|NPM|            Jurusan|         Hobi|Usia|Jeniskelamin|\n",
      "+-------+---+-------------------+-------------+----+------------+\n",
      "|  Resnu|124|   Sistem Informasi| Bermain game|  19|           L|\n",
      "|Zharifa|123|Teknologi Informasi|Menonton film|  20|           P|\n",
      "|   Dila|125|Teknologi Informasi|    Bernyanyi|  21|           P|\n",
      "|   Gema|126|Teknologi Informasi|      Membaca|  22|           L|\n",
      "+-------+---+-------------------+-------------+----+------------+\n",
      "\n"
     ]
    }
   ],
   "source": [
    "# Memulai Spark Session\n",
    "spark = SparkSession.builder.appName(\"ManajemenKelas\").getOrCreate()\n",
    "\n",
    "# Program sederhana\n",
    "mahasiswa = [(\"Zharifa\", 123, \"Teknologi Informasi\", \"Menonton film\", 20, \"P\"), (\"Resnu\", 124, \"Sistem Informasi\", \"Bermain game\", 19, \"L\"), (\"Dila\", 125, \"Teknologi Informasi\", \"Bernyanyi\", 21, \"P\"), (\"Gema\", 126, \"Teknologi Informasi\", \"Membaca\", 22, \"L\")]\n",
    "kolom = [\"Nama\", \"NPM\", \"Jurusan\", \"Hobi\", \"Usia\", \"Jeniskelamin\"]\n",
    "df = spark.createDataFrame(mahasiswa, kolom)\n",
    "\n",
    "#menampilkan Data Frame\n",
    "print(\"Data Mahasiswa:\")\n",
    "df.show()\n",
    "\n",
    "# Filtering data\n",
    "df_filtered = df.filter(df['Usia'] > 19)\n",
    "print(\"Mahasiswa berumur diatas 19 tahun:\")\n",
    "df_filtered.show()\n",
    "\n",
    "df_filtered = df.filter(df['Jurusan'] == \"Teknologi Informasi\")\n",
    "print(\"Mahasiswa jurusan Teknologi Informasi:\")\n",
    "df_filtered.show()\n",
    "\n",
    "# Menghitung rata-rata usia\n",
    "from pyspark.sql.functions import avg\n",
    "print(\"Rata-rata usia Mahasiswa\")\n",
    "df.groupBy().agg(avg(\"Usia\")).show()\n",
    "\n",
    "# Mengurutkan data berdasarkan usia\n",
    "df_sorted = df.orderBy(\"Usia\", ascending=True)\n",
    "print(\"Urutan mahasiswa berdasarkan usia:\")\n",
    "df_sorted.show()"
   ]
  },
  {
   "cell_type": "markdown",
   "metadata": {
    "id": "HxBLYM-K9g5c"
   },
   "source": [
    "**Praktik dengan Pandas\n",
    "(membuat DataFrame menggunakan Pandas)**"
   ]
  },
  {
   "cell_type": "code",
   "execution_count": 6,
   "metadata": {
    "id": "0VlxlmehFYhv"
   },
   "outputs": [
    {
     "data": {
      "text/html": [
       "<div>\n",
       "<style scoped>\n",
       "    .dataframe tbody tr th:only-of-type {\n",
       "        vertical-align: middle;\n",
       "    }\n",
       "\n",
       "    .dataframe tbody tr th {\n",
       "        vertical-align: top;\n",
       "    }\n",
       "\n",
       "    .dataframe thead th {\n",
       "        text-align: right;\n",
       "    }\n",
       "</style>\n",
       "<table border=\"1\" class=\"dataframe\">\n",
       "  <thead>\n",
       "    <tr style=\"text-align: right;\">\n",
       "      <th></th>\n",
       "      <th>Nama</th>\n",
       "      <th>Usia</th>\n",
       "    </tr>\n",
       "  </thead>\n",
       "  <tbody>\n",
       "    <tr>\n",
       "      <th>0</th>\n",
       "      <td>Zharifa</td>\n",
       "      <td>20</td>\n",
       "    </tr>\n",
       "    <tr>\n",
       "      <th>1</th>\n",
       "      <td>Resnu</td>\n",
       "      <td>19</td>\n",
       "    </tr>\n",
       "    <tr>\n",
       "      <th>2</th>\n",
       "      <td>Dila</td>\n",
       "      <td>21</td>\n",
       "    </tr>\n",
       "    <tr>\n",
       "      <th>3</th>\n",
       "      <td>Gema</td>\n",
       "      <td>22</td>\n",
       "    </tr>\n",
       "  </tbody>\n",
       "</table>\n",
       "</div>"
      ],
      "text/plain": [
       "      Nama  Usia\n",
       "0  Zharifa    20\n",
       "1    Resnu    19\n",
       "2     Dila    21\n",
       "3     Gema    22"
      ]
     },
     "execution_count": 6,
     "metadata": {},
     "output_type": "execute_result"
    }
   ],
   "source": [
    "import pandas as pd\n",
    "\n",
    "# Membuat DataFrame Pandas\n",
    "data_pandas = {\"Nama\": [\"Zharifa\", \"Resnu\", \"Dila\", \"Gema\"], \"Usia\": [20, 19, 21, 22]}\n",
    "df_pandas = pd.DataFrame(data_pandas)\n",
    "\n",
    "# Menampilkan DataFrame Pandas\n",
    "df_pandas"
   ]
  },
  {
   "cell_type": "markdown",
   "metadata": {
    "id": "8HZGKKce-Cxi"
   },
   "source": [
    "- **Tugas 3**: Modifikasi DataFrame Pandas dengan menambahkan kolom baru dan melakukan operasi seperti filtering data berdasarkan usia"
   ]
  },
  {
   "cell_type": "code",
   "execution_count": 7,
   "metadata": {
    "id": "ZSBgX3N_-Dol"
   },
   "outputs": [
    {
     "name": "stdout",
     "output_type": "stream",
     "text": [
      "Mahasiswa dengan Usia di atas 19 tahun:\n",
      "      Nama  Usia              Jurusan    Alamat\n",
      "0  Zharifa    20  Teknologi Informasi  Pemalang\n",
      "2     Dila    21  Teknologi Informasi    Sragen\n",
      "3     Gema    22  Teknologi Informasi    Bekasi\n"
     ]
    },
    {
     "data": {
      "text/html": [
       "<div>\n",
       "<style scoped>\n",
       "    .dataframe tbody tr th:only-of-type {\n",
       "        vertical-align: middle;\n",
       "    }\n",
       "\n",
       "    .dataframe tbody tr th {\n",
       "        vertical-align: top;\n",
       "    }\n",
       "\n",
       "    .dataframe thead th {\n",
       "        text-align: right;\n",
       "    }\n",
       "</style>\n",
       "<table border=\"1\" class=\"dataframe\">\n",
       "  <thead>\n",
       "    <tr style=\"text-align: right;\">\n",
       "      <th></th>\n",
       "      <th>Nama</th>\n",
       "      <th>Usia</th>\n",
       "      <th>Jurusan</th>\n",
       "      <th>Alamat</th>\n",
       "    </tr>\n",
       "  </thead>\n",
       "  <tbody>\n",
       "    <tr>\n",
       "      <th>0</th>\n",
       "      <td>Zharifa</td>\n",
       "      <td>20</td>\n",
       "      <td>Teknologi Informasi</td>\n",
       "      <td>Pemalang</td>\n",
       "    </tr>\n",
       "    <tr>\n",
       "      <th>1</th>\n",
       "      <td>Resnu</td>\n",
       "      <td>19</td>\n",
       "      <td>Sistem Informasi</td>\n",
       "      <td>Cilacap</td>\n",
       "    </tr>\n",
       "    <tr>\n",
       "      <th>2</th>\n",
       "      <td>Dila</td>\n",
       "      <td>21</td>\n",
       "      <td>Teknologi Informasi</td>\n",
       "      <td>Sragen</td>\n",
       "    </tr>\n",
       "    <tr>\n",
       "      <th>3</th>\n",
       "      <td>Gema</td>\n",
       "      <td>22</td>\n",
       "      <td>Teknologi Informasi</td>\n",
       "      <td>Bekasi</td>\n",
       "    </tr>\n",
       "  </tbody>\n",
       "</table>\n",
       "</div>"
      ],
      "text/plain": [
       "      Nama  Usia              Jurusan    Alamat\n",
       "0  Zharifa    20  Teknologi Informasi  Pemalang\n",
       "1    Resnu    19     Sistem Informasi   Cilacap\n",
       "2     Dila    21  Teknologi Informasi    Sragen\n",
       "3     Gema    22  Teknologi Informasi    Bekasi"
      ]
     },
     "execution_count": 7,
     "metadata": {},
     "output_type": "execute_result"
    }
   ],
   "source": [
    "import pandas as pd\n",
    "\n",
    "# Membuat DataFrame Pandas\n",
    "data_pandas = {\"Nama\": [\"Zharifa\", \"Resnu\", \"Dila\", \"Gema\"], \"Usia\": [20, 19, 21, 22]}\n",
    "df_pandas = pd.DataFrame(data_pandas)\n",
    "\n",
    "# Menambahkan Kolom baru\n",
    "df_pandas[\"Jurusan\"] = [\"Teknologi Informasi\", \"Sistem Informasi\", \"Teknologi Informasi\", \"Teknologi Informasi\"]\n",
    "df_pandas[\"Alamat\"] = [\"Pemalang\", \"Cilacap\", \"Sragen\", \"Bekasi\"]\n",
    "\n",
    "\n",
    "# Filtering data untuk mahasiswa dengan usia di atas 19 tahun\n",
    "df_filtered_usia = df_pandas[df_pandas[\"Usia\"] > 19]\n",
    "print(\"Mahasiswa dengan Usia di atas 19 tahun:\")\n",
    "print(df_filtered_usia)\n",
    "df_pandas"
   ]
  },
  {
   "cell_type": "markdown",
   "metadata": {
    "id": "9lM3qokCAN82"
   },
   "source": [
    "**Praktik Pandas Lanjutan\n",
    "(Menggunakan Pandas untuk operasi lebih kompleks)**"
   ]
  },
  {
   "cell_type": "markdown",
   "metadata": {
    "id": "Tb1r8pstBQ24"
   },
   "source": [
    "- **Tugas 4**: Lakukan penggabungan DataFrame dan visualisasikan data dengan Pandas."
   ]
  },
  {
   "cell_type": "code",
   "execution_count": 8,
   "metadata": {
    "id": "I47xjBmCAc8l"
   },
   "outputs": [
    {
     "name": "stdout",
     "output_type": "stream",
     "text": [
      "      Nama  Usia Jenis Kelamin\n",
      "0  Zharifa    20             P\n",
      "1    Resnu    19             L\n",
      "2     Dila    21             P\n",
      "3     Gema    22             L\n",
      "            Usia\n",
      "count   4.000000\n",
      "mean   20.500000\n",
      "std     1.290994\n",
      "min    19.000000\n",
      "25%    19.750000\n",
      "50%    20.500000\n",
      "75%    21.250000\n",
      "max    22.000000\n"
     ]
    },
    {
     "data": {
      "image/png": "[encoded data removed]",
      "text/plain": [
       "<Figure size 640x480 with 1 Axes>"
      ]
     },
     "metadata": {},
     "output_type": "display_data"
    }
   ],
   "source": [
    "import pandas as pd\n",
    "\n",
    "# Membuat DataFrame Pandas\n",
    "data_pandas = {\"Nama\": [\"Zharifa\", \"Resnu\", \"Dila\", \"Gema\"], \"Usia\": [20, 19, 21, 22]}\n",
    "df_pandas = pd.DataFrame(data_pandas)\n",
    "\n",
    "# Membuat DataFrame kedua\n",
    "data_pandas2 = {\"Nama\": [\"Zharifa\", \"Resnu\", \"Dila\", \"Gema\"], \"Jenis Kelamin\": [\"P\", \"L\", \"P\", \"L\"]}\n",
    "df_pandas2 = pd.DataFrame(data_pandas2)\n",
    "\n",
    "# Menggabungkan antara dua DataFrame\n",
    "df_joined = pd.merge(df_pandas, df_pandas2, on=\"Nama\")\n",
    "print(df_joined)\n",
    "\n",
    "# Menghitung statistik deskriptif\n",
    "print(df_pandas.describe())\n",
    "\n",
    "# Plotting Data\n",
    "import matplotlib.pyplot as plt\n",
    "df_pandas['Usia'].plot(kind='bar')\n",
    "plt.show()"
   ]
  },
  {
   "cell_type": "markdown",
   "metadata": {
    "id": "jQNrvzM5BnSL"
   },
   "source": [
    "**Menggabungkan PySpark dan Pandas\n",
    "(Mengonversi DataFrame antara PySpark dan Pandas)**"
   ]
  },
  {
   "cell_type": "code",
   "execution_count": 9,
   "metadata": {
    "id": "40UwhTcZBzLO"
   },
   "outputs": [
    {
     "name": "stdout",
     "output_type": "stream",
     "text": [
      "+-------+----+\n",
      "|   Nama|Usia|\n",
      "+-------+----+\n",
      "|Zharifa|  20|\n",
      "|  Resnu|  19|\n",
      "|   Dila|  21|\n",
      "|   Gema|  22|\n",
      "+-------+----+\n",
      "\n"
     ]
    },
    {
     "data": {
      "text/plain": [
       "(      Nama  NPM              Jurusan           Hobi  Usia Jeniskelamin\n",
       " 0  Zharifa  123  Teknologi Informasi  Menonton film    20            P\n",
       " 1    Resnu  124     Sistem Informasi   Bermain game    19            L\n",
       " 2     Dila  125  Teknologi Informasi      Bernyanyi    21            P\n",
       " 3     Gema  126  Teknologi Informasi        Membaca    22            L,\n",
       " None)"
      ]
     },
     "execution_count": 9,
     "metadata": {},
     "output_type": "execute_result"
    }
   ],
   "source": [
    "# Mengonversi DataFrame dari PySpark ke Pandas\n",
    "df_pandas_from_spark = df.toPandas()\n",
    "\n",
    "# Mengonversi DataFrame dari Pandas ke PySpark\n",
    "df_spark_from_pandas = spark.createDataFrame(df_pandas)\n",
    "\n",
    "# Menampilkan DataFrame hasil konversi\n",
    "df_pandas_from_spark, df_spark_from_pandas.show()"
   ]
  },
  {
   "cell_type": "markdown",
   "metadata": {
    "id": "Ib1HlgN8B32-"
   },
   "source": [
    "- **Tugas 5**: Gunakan metode ini untuk menggabungkan data yang Anda buat di PySpark dengan data dari Pandas, kemudian lakukan analisis sederhana seperti menghitung rata-rata usia."
   ]
  },
  {
   "cell_type": "code",
   "execution_count": 14,
   "metadata": {
    "id": "P5y4iGD6B9in"
   },
   "outputs": [
    {
     "name": "stdout",
     "output_type": "stream",
     "text": [
      "      Nama Usia Jenis Kelamin\n",
      "0  Zharifa   20             P\n",
      "1    Resnu   19             L\n",
      "2     Dila   21             P\n",
      "3     Gema   22             L\n",
      "+-------+----+-------------+\n",
      "|   Nama|Usia|Jenis Kelamin|\n",
      "+-------+----+-------------+\n",
      "|Zharifa|  20|            P|\n",
      "|  Resnu|  19|            L|\n",
      "|   Dila|  21|            P|\n",
      "|   Gema|  22|            L|\n",
      "+-------+----+-------------+\n",
      "\n",
      "+---------+\n",
      "|avg(Usia)|\n",
      "+---------+\n",
      "|     20.5|\n",
      "+---------+\n",
      "\n"
     ]
    }
   ],
   "source": [
    "\n",
    "import pandas as pd\n",
    "# Mengonversi DataFrame dari PySpark ke Pandas\n",
    "df_pandas_from_spark = df_mahasiswa.toPandas()\n",
    "\n",
    "# Mengonversi DataFrame Dari PySpark ke Pandas\n",
    "df_pandas_from_spark = df.toPandas()\n",
    "\n",
    "# Menggabungkan antara dua DataFrame\n",
    "df_joined = pd.merge(df_pandas, df_pandas2, on=\"Nama\")\n",
    "print(df_joined)\n",
    "\n",
    "#Mengonversi hasil gabungan\n",
    "df_spark_from_pandas = spark.createDataFrame(df_joined)\n",
    "df_spark_from_pandas.show()\n",
    "\n",
    "# Menghitung rata-rata usia\n",
    "df_spark_from_pandas.groupBy().agg(avg(\"Usia\")).show()\n"
   ]
  },
  {
   "cell_type": "markdown",
   "metadata": {
    "id": "ZLY-YPzODvr9"
   },
   "source": [
    "- **Tugas 6**: Gabungkan data dari PySpark dan Pandas, lalu lakukan operasi statistik seperti menghitung nilai maksimum usia."
   ]
  },
  {
   "cell_type": "code",
   "execution_count": 11,
   "metadata": {
    "id": "QeUuyHh-C0oB"
   },
   "outputs": [
    {
     "name": "stdout",
     "output_type": "stream",
     "text": [
      "      Nama  NPM              Jurusan           Hobi  Usia_x Jeniskelamin  \\\n",
      "0  Zharifa  123  Teknologi Informasi  Menonton film      20            P   \n",
      "1    Resnu  124     Sistem Informasi   Bermain game      19            L   \n",
      "2     Dila  125  Teknologi Informasi      Bernyanyi      21            P   \n",
      "3     Gema  126  Teknologi Informasi        Membaca      22            L   \n",
      "\n",
      "  Usia_y  \n",
      "0     20  \n",
      "1     19  \n",
      "2     21  \n",
      "3     22  \n"
     ]
    },
    {
     "ename": "KeyError",
     "evalue": "'Usia'",
     "output_type": "error",
     "traceback": [
      "\u001b[1;31m---------------------------------------------------------------------------\u001b[0m",
      "\u001b[1;31mKeyError\u001b[0m                                  Traceback (most recent call last)",
      "File \u001b[1;32m~\\anaconda3\\p\\envs\\PrakBigDataRombel1-TIF\\Lib\\site-packages\\pandas\\core\\indexes\\base.py:3805\u001b[0m, in \u001b[0;36mIndex.get_loc\u001b[1;34m(self, key)\u001b[0m\n\u001b[0;32m   3804\u001b[0m \u001b[38;5;28;01mtry\u001b[39;00m:\n\u001b[1;32m-> 3805\u001b[0m     \u001b[38;5;28;01mreturn\u001b[39;00m \u001b[38;5;28mself\u001b[39m\u001b[38;5;241m.\u001b[39m_engine\u001b[38;5;241m.\u001b[39mget_loc(casted_key)\n\u001b[0;32m   3806\u001b[0m \u001b[38;5;28;01mexcept\u001b[39;00m \u001b[38;5;167;01mKeyError\u001b[39;00m \u001b[38;5;28;01mas\u001b[39;00m err:\n",
      "File \u001b[1;32mindex.pyx:167\u001b[0m, in \u001b[0;36mpandas._libs.index.IndexEngine.get_loc\u001b[1;34m()\u001b[0m\n",
      "File \u001b[1;32mindex.pyx:196\u001b[0m, in \u001b[0;36mpandas._libs.index.IndexEngine.get_loc\u001b[1;34m()\u001b[0m\n",
      "File \u001b[1;32mpandas\\\\_libs\\\\hashtable_class_helper.pxi:7081\u001b[0m, in \u001b[0;36mpandas._libs.hashtable.PyObjectHashTable.get_item\u001b[1;34m()\u001b[0m\n",
      "File \u001b[1;32mpandas\\\\_libs\\\\hashtable_class_helper.pxi:7089\u001b[0m, in \u001b[0;36mpandas._libs.hashtable.PyObjectHashTable.get_item\u001b[1;34m()\u001b[0m\n",
      "\u001b[1;31mKeyError\u001b[0m: 'Usia'",
      "\nThe above exception was the direct cause of the following exception:\n",
      "\u001b[1;31mKeyError\u001b[0m                                  Traceback (most recent call last)",
      "Cell \u001b[1;32mIn[11], line 12\u001b[0m\n\u001b[0;32m      9\u001b[0m \u001b[38;5;28mprint\u001b[39m(df_joined)\n\u001b[0;32m     11\u001b[0m \u001b[38;5;66;03m# Menghitung nilai maksimum usia\u001b[39;00m\n\u001b[1;32m---> 12\u001b[0m max_usia \u001b[38;5;241m=\u001b[39m df_joined[\u001b[38;5;124m'\u001b[39m\u001b[38;5;124mUsia\u001b[39m\u001b[38;5;124m'\u001b[39m]\u001b[38;5;241m.\u001b[39mmax()\n\u001b[0;32m     13\u001b[0m \u001b[38;5;28mprint\u001b[39m(\u001b[38;5;124m\"\u001b[39m\u001b[38;5;130;01m\\n\u001b[39;00m\u001b[38;5;124mNilai maksimum usia:\u001b[39m\u001b[38;5;124m\"\u001b[39m, max_usia)\n",
      "File \u001b[1;32m~\\anaconda3\\p\\envs\\PrakBigDataRombel1-TIF\\Lib\\site-packages\\pandas\\core\\frame.py:4102\u001b[0m, in \u001b[0;36mDataFrame.__getitem__\u001b[1;34m(self, key)\u001b[0m\n\u001b[0;32m   4100\u001b[0m \u001b[38;5;28;01mif\u001b[39;00m \u001b[38;5;28mself\u001b[39m\u001b[38;5;241m.\u001b[39mcolumns\u001b[38;5;241m.\u001b[39mnlevels \u001b[38;5;241m>\u001b[39m \u001b[38;5;241m1\u001b[39m:\n\u001b[0;32m   4101\u001b[0m     \u001b[38;5;28;01mreturn\u001b[39;00m \u001b[38;5;28mself\u001b[39m\u001b[38;5;241m.\u001b[39m_getitem_multilevel(key)\n\u001b[1;32m-> 4102\u001b[0m indexer \u001b[38;5;241m=\u001b[39m \u001b[38;5;28mself\u001b[39m\u001b[38;5;241m.\u001b[39mcolumns\u001b[38;5;241m.\u001b[39mget_loc(key)\n\u001b[0;32m   4103\u001b[0m \u001b[38;5;28;01mif\u001b[39;00m is_integer(indexer):\n\u001b[0;32m   4104\u001b[0m     indexer \u001b[38;5;241m=\u001b[39m [indexer]\n",
      "File \u001b[1;32m~\\anaconda3\\p\\envs\\PrakBigDataRombel1-TIF\\Lib\\site-packages\\pandas\\core\\indexes\\base.py:3812\u001b[0m, in \u001b[0;36mIndex.get_loc\u001b[1;34m(self, key)\u001b[0m\n\u001b[0;32m   3807\u001b[0m     \u001b[38;5;28;01mif\u001b[39;00m \u001b[38;5;28misinstance\u001b[39m(casted_key, \u001b[38;5;28mslice\u001b[39m) \u001b[38;5;129;01mor\u001b[39;00m (\n\u001b[0;32m   3808\u001b[0m         \u001b[38;5;28misinstance\u001b[39m(casted_key, abc\u001b[38;5;241m.\u001b[39mIterable)\n\u001b[0;32m   3809\u001b[0m         \u001b[38;5;129;01mand\u001b[39;00m \u001b[38;5;28many\u001b[39m(\u001b[38;5;28misinstance\u001b[39m(x, \u001b[38;5;28mslice\u001b[39m) \u001b[38;5;28;01mfor\u001b[39;00m x \u001b[38;5;129;01min\u001b[39;00m casted_key)\n\u001b[0;32m   3810\u001b[0m     ):\n\u001b[0;32m   3811\u001b[0m         \u001b[38;5;28;01mraise\u001b[39;00m InvalidIndexError(key)\n\u001b[1;32m-> 3812\u001b[0m     \u001b[38;5;28;01mraise\u001b[39;00m \u001b[38;5;167;01mKeyError\u001b[39;00m(key) \u001b[38;5;28;01mfrom\u001b[39;00m \u001b[38;5;21;01merr\u001b[39;00m\n\u001b[0;32m   3813\u001b[0m \u001b[38;5;28;01mexcept\u001b[39;00m \u001b[38;5;167;01mTypeError\u001b[39;00m:\n\u001b[0;32m   3814\u001b[0m     \u001b[38;5;66;03m# If we have a listlike key, _check_indexing_error will raise\u001b[39;00m\n\u001b[0;32m   3815\u001b[0m     \u001b[38;5;66;03m#  InvalidIndexError. Otherwise we fall through and re-raise\u001b[39;00m\n\u001b[0;32m   3816\u001b[0m     \u001b[38;5;66;03m#  the TypeError.\u001b[39;00m\n\u001b[0;32m   3817\u001b[0m     \u001b[38;5;28mself\u001b[39m\u001b[38;5;241m.\u001b[39m_check_indexing_error(key)\n",
      "\u001b[1;31mKeyError\u001b[0m: 'Usia'"
     ]
    }
   ],
   "source": [
    "\n",
    "import pandas as pd\n",
    "# Mengonversi DataFrame dari PySpark ke Pandas\n",
    "df_pandas_from_spark = df.toPandas()\n",
    "\n",
    "# Menggabungkan antara dua DataFrame\n",
    "df_joined = pd.merge(df_pandas_from_spark, df_pandas, on=\"Nama\")\n",
    "\n",
    "# Menampilkan DataFrame hasil penggabungan\n",
    "print(df_joined)\n",
    "\n",
    "# Menghitung nilai maksimum usia\n",
    "max_usia = df_joined['Usia'].max()\n",
    "print(\"\\nNilai maksimum usia:\", max_usia)\n",
    "\n"
   ]
  },
  {
   "cell_type": "code",
   "execution_count": null,
   "metadata": {},
   "outputs": [],
   "source": []
  }
 ],
 "metadata": {
  "colab": {
   "provenance": []
  },
  "kernelspec": {
   "display_name": "Python 3 (ipykernel)",
   "language": "python",
   "name": "python3"
  },
  "language_info": {
   "codemirror_mode": {
    "name": "ipython",
    "version": 3
   },
   "file_extension": ".py",
   "mimetype": "text/x-python",
   "name": "python",
   "nbconvert_exporter": "python",
   "pygments_lexer": "ipython3",
   "version": "3.11.9"
  }
 },
 "nbformat": 4,
 "nbformat_minor": 4
}
