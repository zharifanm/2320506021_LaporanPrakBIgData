{
  "cells": [
    {
      "cell_type": "markdown",
      "id": "9e95332f",
      "metadata": {
        "id": "9e95332f"
      },
      "source": [
        "# Hands-On Pertemuan 12 and 13: Data Cleaning, Preparation, and Visualization"
      ]
    },
    {
      "cell_type": "markdown",
      "id": "c6a6f4ed",
      "metadata": {
        "id": "c6a6f4ed"
      },
      "source": [
        "## Objectives:\n",
        "- **Pertemuan 12**: Master data cleaning and preparation techniques using Pandas.\n",
        "- **Pertemuan 13**: Develop skills in data visualization using Matplotlib and Seaborn for effective data analysis.\n"
      ]
    },
    {
      "cell_type": "markdown",
      "id": "423279e7",
      "metadata": {
        "id": "423279e7"
      },
      "source": [
        "## Pertemuan 12: Data Cleaning and Preparation using Pandas"
      ]
    },
    {
      "cell_type": "markdown",
      "id": "717d917f",
      "metadata": {
        "id": "717d917f"
      },
      "source": [
        "### Topics Covered\n",
        "- Identifying and handling missing data.\n",
        "- Data transformation and normalization.\n",
        "- Data filtering and deduplication.\n",
        "- Standardization of categorical data.\n",
        "- Outlier detection and handling.\n"
      ]
    },
    {
      "cell_type": "code",
      "execution_count": null,
      "id": "10266acc",
      "metadata": {
        "id": "10266acc",
        "colab": {
          "base_uri": "https://localhost:8080/"
        },
        "outputId": "af7a4f30-4f6e-4f4c-b686-b9de20a724d8"
      },
      "outputs": [
        {
          "output_type": "stream",
          "name": "stdout",
          "text": [
            "Before cleaning:       Name   Age   Salary\n",
            "0    Alice  24.0  48000.0\n",
            "1      Bob  30.0      NaN\n",
            "2  Charlie   NaN  57000.0\n",
            "3    David  22.0      NaN\n",
            "4     None  35.0  60000.0\n",
            "\n",
            "After cleaning:\n",
            "       Name    Age   Salary\n",
            "0    Alice  24.00  48000.0\n",
            "1      Bob  30.00  57000.0\n",
            "2  Charlie  27.75  57000.0\n",
            "3    David  22.00  57000.0\n"
          ]
        },
        {
          "output_type": "stream",
          "name": "stderr",
          "text": [
            "<ipython-input-1-3987b52de252>:14: FutureWarning: A value is trying to be set on a copy of a DataFrame or Series through chained assignment using an inplace method.\n",
            "The behavior will change in pandas 3.0. This inplace method will never work because the intermediate object on which we are setting values always behaves as a copy.\n",
            "\n",
            "For example, when doing 'df[col].method(value, inplace=True)', try using 'df.method({col: value}, inplace=True)' or df[col] = df[col].method(value) instead, to perform the operation inplace on the original object.\n",
            "\n",
            "\n",
            "  df['Age'].fillna(df['Age'].mean(), inplace=True)\n",
            "<ipython-input-1-3987b52de252>:15: FutureWarning: A value is trying to be set on a copy of a DataFrame or Series through chained assignment using an inplace method.\n",
            "The behavior will change in pandas 3.0. This inplace method will never work because the intermediate object on which we are setting values always behaves as a copy.\n",
            "\n",
            "For example, when doing 'df[col].method(value, inplace=True)', try using 'df.method({col: value}, inplace=True)' or df[col] = df[col].method(value) instead, to perform the operation inplace on the original object.\n",
            "\n",
            "\n",
            "  df['Salary'].fillna(df['Salary'].median(), inplace=True)\n"
          ]
        }
      ],
      "source": [
        "# Exercise 1: Identifying and Handling Missing Data\n",
        "import pandas as pd\n",
        "\n",
        "# Sample dataset with missing values\n",
        "data = {\n",
        "    'Name': ['Alice', 'Bob', 'Charlie', 'David', None],\n",
        "    'Age': [24, 30, None, 22, 35],\n",
        "    'Salary': [48000, None, 57000, None, 60000]\n",
        "}\n",
        "df = pd.DataFrame(data)\n",
        "print('Before cleaning:', df)\n",
        "\n",
        "# Filling missing values and dropping rows\n",
        "df['Age'].fillna(df['Age'].mean(), inplace=True)\n",
        "df['Salary'].fillna(df['Salary'].median(), inplace=True)\n",
        "df.dropna(subset=['Name'], inplace=True)\n",
        "print('\\nAfter cleaning:\\n', df)\n"
      ]
    },
    {
      "cell_type": "code",
      "execution_count": null,
      "id": "fcf68022",
      "metadata": {
        "id": "fcf68022",
        "colab": {
          "base_uri": "https://localhost:8080/"
        },
        "outputId": "119e3d0d-c0e8-4b5f-fddf-026a91c1af58"
      },
      "outputs": [
        {
          "output_type": "stream",
          "name": "stdout",
          "text": [
            "Standardized Data:\n",
            "    Product     Category\n",
            "0   Laptop  Electronics\n",
            "1   Laptop  Electronics\n",
            "2  Desktop  Electronics\n",
            "3   Tablet      Gadgets\n",
            "4   Tablet      Gadgets\n"
          ]
        }
      ],
      "source": [
        "# Exercise 2: Standardizing Categorical Data\n",
        "# Sample dataset with inconsistent categorical values\n",
        "data = {\n",
        "    'Product': ['Laptop', 'Laptop', 'Desktop', 'Tablet', 'Tablet'],\n",
        "    'Category': ['Electronics', 'electronics', 'Electronics', 'Gadgets', 'gadgets']\n",
        "}\n",
        "df = pd.DataFrame(data)\n",
        "\n",
        "# Standardize category values\n",
        "df['Category'] = df['Category'].str.capitalize()\n",
        "print('Standardized Data:\\n', df)\n"
      ]
    },
    {
      "cell_type": "markdown",
      "id": "b237c9ec",
      "metadata": {
        "id": "b237c9ec"
      },
      "source": [
        "### Practice Tasks\n",
        "- Load a dataset of your choice and identify missing values.\n",
        "- Implement data transformations to normalize numerical columns.\n",
        "- Standardize categorical columns and remove duplicates.\n"
      ]
    },
    {
      "cell_type": "code",
      "source": [
        "import pandas as pd\n",
        "\n",
        "# Dataset cuaca dengan nilai yang hilang\n",
        "data_cuaca = {\n",
        "    'Tanggal': ['2024-11-01', '2024-11-02', None, '2024-11-04', '2024-11-05', None, '2024-11-07', '2024-11-08', '2024-11-01', '2024-11-02'],\n",
        "    'Suhu (°C)': [30.5, 31.0, None, 29.5, 25.6, 28.0, 27.5, None, 30.5, 31.0],\n",
        "    'Kelembapan (%)': [85, 80, 78, None, 76, 74, 75, None, 85, 80],\n",
        "    'Kondisi': ['Cerah', None, 'Mendung', 'Hujan', 'mendung', 'Cerah', None, 'Badai', 'cerah', None]\n",
        "}\n",
        "\n",
        "# Membuat DataFrame dari data\n",
        "df_cuaca = pd.DataFrame(data_cuaca)\n",
        "print(\"Weather Dataset before cleaning:\")\n",
        "print(df_cuaca)\n",
        "\n",
        "# Load a dataset of your choice and identify missing values.\n",
        "print(\"\\nMissing values in column:\")\n",
        "print(df_cuaca.isnull().sum())\n",
        "\n",
        "# Implement data transformations to normalize numerical columns.\n",
        "df_cuaca['Suhu (°C)'].fillna(df_cuaca['Suhu (°C)'].mean(), inplace=True)\n",
        "df_cuaca['Kelembapan (%)'].fillna(df_cuaca['Kelembapan (%)'].median(), inplace=True)\n",
        "df_cuaca['Kondisi'].fillna(df_cuaca['Kondisi'].mode()[0], inplace=True)\n",
        "df_cuaca.dropna(subset=['Tanggal'], inplace=True)\n",
        "print(\"\\nWeather dataset after  Implement data transformations:\")\n",
        "print(df_cuaca)\n",
        "\n",
        "# Standardize categorical columns  and remove duplicates.\n",
        "df_cuaca['Kondisi'] = df_cuaca['Kondisi'].str.capitalize()\n",
        "print(\"\\nWeather dataset after standardizing categorical columns and removing duplicates:\")\n",
        "df_cuaca.drop_duplicates(inplace=True)\n",
        "print(df_cuaca)\n",
        "\n"
      ],
      "metadata": {
        "colab": {
          "base_uri": "https://localhost:8080/"
        },
        "id": "qQ5KzJ8cieL6",
        "outputId": "12b05585-4786-4da0-befd-f6796eb0bd0c"
      },
      "id": "qQ5KzJ8cieL6",
      "execution_count": null,
      "outputs": [
        {
          "output_type": "stream",
          "name": "stdout",
          "text": [
            "Weather Dataset before cleaning:\n",
            "      Tanggal  Suhu (°C)  Kelembapan (%)  Kondisi\n",
            "0  2024-11-01       30.5            85.0    Cerah\n",
            "1  2024-11-02       31.0            80.0     None\n",
            "2        None        NaN            78.0  Mendung\n",
            "3  2024-11-04       29.5             NaN    Hujan\n",
            "4  2024-11-05       25.6            76.0  mendung\n",
            "5        None       28.0            74.0    Cerah\n",
            "6  2024-11-07       27.5            75.0     None\n",
            "7  2024-11-08        NaN             NaN    Badai\n",
            "8  2024-11-01       30.5            85.0    cerah\n",
            "9  2024-11-02       31.0            80.0     None\n",
            "\n",
            "Missing values in column:\n",
            "Tanggal           2\n",
            "Suhu (°C)         2\n",
            "Kelembapan (%)    2\n",
            "Kondisi           3\n",
            "dtype: int64\n",
            "\n",
            "Weather dataset after  Implement data transformations:\n",
            "      Tanggal  Suhu (°C)  Kelembapan (%)  Kondisi\n",
            "0  2024-11-01       30.5            85.0    Cerah\n",
            "1  2024-11-02       31.0            80.0    Cerah\n",
            "3  2024-11-04       29.5            79.0    Hujan\n",
            "4  2024-11-05       25.6            76.0  mendung\n",
            "6  2024-11-07       27.5            75.0    Cerah\n",
            "7  2024-11-08       29.2            79.0    Badai\n",
            "8  2024-11-01       30.5            85.0    cerah\n",
            "9  2024-11-02       31.0            80.0    Cerah\n",
            "\n",
            "Weather dataset after standardizing categorical columns and removing duplicates:\n",
            "      Tanggal  Suhu (°C)  Kelembapan (%)  Kondisi\n",
            "0  2024-11-01       30.5            85.0    Cerah\n",
            "1  2024-11-02       31.0            80.0    Cerah\n",
            "3  2024-11-04       29.5            79.0    Hujan\n",
            "4  2024-11-05       25.6            76.0  Mendung\n",
            "6  2024-11-07       27.5            75.0    Cerah\n",
            "7  2024-11-08       29.2            79.0    Badai\n"
          ]
        },
        {
          "output_type": "stream",
          "name": "stderr",
          "text": [
            "<ipython-input-3-347b5e558cfc>:21: FutureWarning: A value is trying to be set on a copy of a DataFrame or Series through chained assignment using an inplace method.\n",
            "The behavior will change in pandas 3.0. This inplace method will never work because the intermediate object on which we are setting values always behaves as a copy.\n",
            "\n",
            "For example, when doing 'df[col].method(value, inplace=True)', try using 'df.method({col: value}, inplace=True)' or df[col] = df[col].method(value) instead, to perform the operation inplace on the original object.\n",
            "\n",
            "\n",
            "  df_cuaca['Suhu (°C)'].fillna(df_cuaca['Suhu (°C)'].mean(), inplace=True)\n",
            "<ipython-input-3-347b5e558cfc>:22: FutureWarning: A value is trying to be set on a copy of a DataFrame or Series through chained assignment using an inplace method.\n",
            "The behavior will change in pandas 3.0. This inplace method will never work because the intermediate object on which we are setting values always behaves as a copy.\n",
            "\n",
            "For example, when doing 'df[col].method(value, inplace=True)', try using 'df.method({col: value}, inplace=True)' or df[col] = df[col].method(value) instead, to perform the operation inplace on the original object.\n",
            "\n",
            "\n",
            "  df_cuaca['Kelembapan (%)'].fillna(df_cuaca['Kelembapan (%)'].median(), inplace=True)\n",
            "<ipython-input-3-347b5e558cfc>:23: FutureWarning: A value is trying to be set on a copy of a DataFrame or Series through chained assignment using an inplace method.\n",
            "The behavior will change in pandas 3.0. This inplace method will never work because the intermediate object on which we are setting values always behaves as a copy.\n",
            "\n",
            "For example, when doing 'df[col].method(value, inplace=True)', try using 'df.method({col: value}, inplace=True)' or df[col] = df[col].method(value) instead, to perform the operation inplace on the original object.\n",
            "\n",
            "\n",
            "  df_cuaca['Kondisi'].fillna(df_cuaca['Kondisi'].mode()[0], inplace=True)\n"
          ]
        }
      ]
    },
    {
      "cell_type": "markdown",
      "source": [
        "## Homework for Students\n",
        "- **Pertemuan 12**: Clean a real-world dataset (from Kaggle or another source), perform normalization, handle outliers, and prepare the data for analysis."
      ],
      "metadata": {
        "id": "hcTNFjWkUQrR"
      },
      "id": "hcTNFjWkUQrR"
    },
    {
      "cell_type": "code",
      "source": [
        "import pandas as pd\n",
        "import numpy as np\n",
        "import matplotlib.pyplot as plt\n",
        "import seaborn as sns\n",
        "\n",
        "# Load the Titanic dataset\n",
        "df = pd.read_csv('titanic.csv')\n",
        "print('Dataset before cleaning:\\n', df)\n",
        "\n",
        "# Clean the data\n",
        "df['Age'].fillna(df['Age'].median(), inplace=True)\n",
        "df['Embarked'].fillna('Unknown', inplace=True)\n",
        "df['Fare'].fillna(df['Fare'].median(), inplace=True)\n",
        "df['Cabin'].fillna('No Cabin', inplace=True)\n",
        "df['Name'].fillna('Unknown', inplace=True)\n",
        "print(\"Dataset after Cleaning:\\n\", df)\n"
      ],
      "metadata": {
        "colab": {
          "base_uri": "https://localhost:8080/"
        },
        "id": "zh_VQpNVUP5B",
        "outputId": "576033bc-1b37-4bbd-b132-e5a42a2fd649"
      },
      "id": "zh_VQpNVUP5B",
      "execution_count": null,
      "outputs": [
        {
          "output_type": "stream",
          "name": "stdout",
          "text": [
            "Dataset before cleaning:\n",
            "      PassengerId  Survived  ...  Cabin Embarked\n",
            "0              1         0  ...    NaN        S\n",
            "1              2         1  ...    C85        C\n",
            "2              3         1  ...    NaN        S\n",
            "3              4         1  ...   C123        S\n",
            "4              5         0  ...    NaN        S\n",
            "..           ...       ...  ...    ...      ...\n",
            "886          887         0  ...    NaN        S\n",
            "887          888         1  ...    B42        S\n",
            "888          889         0  ...    NaN        S\n",
            "889          890         1  ...   C148        C\n",
            "890          891         0  ...    NaN        Q\n",
            "\n",
            "[891 rows x 12 columns]\n",
            "Dataset after Cleaning:\n",
            "      PassengerId  Survived  ...     Cabin Embarked\n",
            "0              1         0  ...  No Cabin        S\n",
            "1              2         1  ...       C85        C\n",
            "2              3         1  ...  No Cabin        S\n",
            "3              4         1  ...      C123        S\n",
            "4              5         0  ...  No Cabin        S\n",
            "..           ...       ...  ...       ...      ...\n",
            "886          887         0  ...  No Cabin        S\n",
            "887          888         1  ...       B42        S\n",
            "888          889         0  ...  No Cabin        S\n",
            "889          890         1  ...      C148        C\n",
            "890          891         0  ...  No Cabin        Q\n",
            "\n",
            "[891 rows x 12 columns]\n"
          ]
        },
        {
          "output_type": "stream",
          "name": "stderr",
          "text": [
            "<ipython-input-20-b7c54e3dc0a6>:11: FutureWarning: A value is trying to be set on a copy of a DataFrame or Series through chained assignment using an inplace method.\n",
            "The behavior will change in pandas 3.0. This inplace method will never work because the intermediate object on which we are setting values always behaves as a copy.\n",
            "\n",
            "For example, when doing 'df[col].method(value, inplace=True)', try using 'df.method({col: value}, inplace=True)' or df[col] = df[col].method(value) instead, to perform the operation inplace on the original object.\n",
            "\n",
            "\n",
            "  df['Age'].fillna(df['Age'].median(), inplace=True)\n",
            "<ipython-input-20-b7c54e3dc0a6>:12: FutureWarning: A value is trying to be set on a copy of a DataFrame or Series through chained assignment using an inplace method.\n",
            "The behavior will change in pandas 3.0. This inplace method will never work because the intermediate object on which we are setting values always behaves as a copy.\n",
            "\n",
            "For example, when doing 'df[col].method(value, inplace=True)', try using 'df.method({col: value}, inplace=True)' or df[col] = df[col].method(value) instead, to perform the operation inplace on the original object.\n",
            "\n",
            "\n",
            "  df['Embarked'].fillna('Unknown', inplace=True)\n",
            "<ipython-input-20-b7c54e3dc0a6>:13: FutureWarning: A value is trying to be set on a copy of a DataFrame or Series through chained assignment using an inplace method.\n",
            "The behavior will change in pandas 3.0. This inplace method will never work because the intermediate object on which we are setting values always behaves as a copy.\n",
            "\n",
            "For example, when doing 'df[col].method(value, inplace=True)', try using 'df.method({col: value}, inplace=True)' or df[col] = df[col].method(value) instead, to perform the operation inplace on the original object.\n",
            "\n",
            "\n",
            "  df['Fare'].fillna(df['Fare'].median(), inplace=True)\n",
            "<ipython-input-20-b7c54e3dc0a6>:14: FutureWarning: A value is trying to be set on a copy of a DataFrame or Series through chained assignment using an inplace method.\n",
            "The behavior will change in pandas 3.0. This inplace method will never work because the intermediate object on which we are setting values always behaves as a copy.\n",
            "\n",
            "For example, when doing 'df[col].method(value, inplace=True)', try using 'df.method({col: value}, inplace=True)' or df[col] = df[col].method(value) instead, to perform the operation inplace on the original object.\n",
            "\n",
            "\n",
            "  df['Cabin'].fillna('No Cabin', inplace=True)\n",
            "<ipython-input-20-b7c54e3dc0a6>:15: FutureWarning: A value is trying to be set on a copy of a DataFrame or Series through chained assignment using an inplace method.\n",
            "The behavior will change in pandas 3.0. This inplace method will never work because the intermediate object on which we are setting values always behaves as a copy.\n",
            "\n",
            "For example, when doing 'df[col].method(value, inplace=True)', try using 'df.method({col: value}, inplace=True)' or df[col] = df[col].method(value) instead, to perform the operation inplace on the original object.\n",
            "\n",
            "\n",
            "  df['Name'].fillna('Unknown', inplace=True)\n"
          ]
        }
      ]
    },
    {
      "cell_type": "code",
      "source": [
        "# Perform normalization\n",
        "df['Normalized Age'] = (df['Age'] - df['Age'].min()) / (df['Age'].max() - df['Age'].min())\n",
        "df['Normalized Fare'] = (df['Fare'] - df['Fare'].min()) / (df['Fare'].max() - df['Fare'].min())\n",
        "print('Data Perform Normalization:\\n',  df)"
      ],
      "metadata": {
        "colab": {
          "base_uri": "https://localhost:8080/"
        },
        "id": "kj4lSPN6GPU2",
        "outputId": "8c848f45-1753-4577-96f8-ffe3bd7b2a58"
      },
      "id": "kj4lSPN6GPU2",
      "execution_count": null,
      "outputs": [
        {
          "output_type": "stream",
          "name": "stdout",
          "text": [
            "Data Perform Normalization:\n",
            "      PassengerId  Survived  ...  Normalized Fare Normalized Age\n",
            "0              1         0  ...         0.014151       0.271174\n",
            "1              2         1  ...         0.139136       0.472229\n",
            "2              3         1  ...         0.015469       0.321438\n",
            "3              4         1  ...         0.103644       0.434531\n",
            "4              5         0  ...         0.015713       0.434531\n",
            "..           ...       ...  ...              ...            ...\n",
            "886          887         0  ...         0.025374       0.334004\n",
            "887          888         1  ...         0.058556       0.233476\n",
            "888          889         0  ...         0.045771       0.346569\n",
            "889          890         1  ...         0.058556       0.321438\n",
            "890          891         0  ...         0.015127       0.396833\n",
            "\n",
            "[891 rows x 14 columns]\n"
          ]
        }
      ]
    },
    {
      "cell_type": "code",
      "source": [
        "# Handle outliers for Fare\n",
        "fare_threshold = 1.5 * (df['Fare'].quantile(0.75) - df['Fare'].quantile(0.25))\n",
        "upper_limit = df['Fare'].quantile(0.75) + fare_threshold\n",
        "lower_limit = df['Fare'].quantile(0.25) - fare_threshold\n",
        "df['Is_Outlier_Fare'] = ~df['Fare'].between(lower_limit, upper_limit)\n",
        "print('Data after handle outliers  for Fare:\\n', df)\n",
        "\n",
        "# Handle outliers for Age\n",
        "age_threshold = 1.5 * (df['Age'].quantile(0.75) - df['Age'].quantile(0.25))\n",
        "age_upper_limit = df['Age'].quantile(0.75) + age_threshold\n",
        "age_lower_limit = df['Age'].quantile(0.25) - age_threshold\n",
        "df['Is_Outlier_Age'] = ~df['Age'].between(age_lower_limit, age_upper_limit)\n",
        "print('\\nData after handle outlier for Age:\\n', df)"
      ],
      "metadata": {
        "colab": {
          "base_uri": "https://localhost:8080/"
        },
        "id": "GL8LbcmmHqIP",
        "outputId": "64222a29-f5cc-4fd0-b3b9-8fa9557c5d12"
      },
      "id": "GL8LbcmmHqIP",
      "execution_count": null,
      "outputs": [
        {
          "output_type": "stream",
          "name": "stdout",
          "text": [
            "Data after handle outliers  for Fare:\n",
            "      PassengerId  Survived  ...  Is_Outlier_Fare Is_Outlier_Age\n",
            "0              1         0  ...            False          False\n",
            "1              2         1  ...             True          False\n",
            "2              3         1  ...            False          False\n",
            "3              4         1  ...            False          False\n",
            "4              5         0  ...            False          False\n",
            "..           ...       ...  ...              ...            ...\n",
            "886          887         0  ...            False          False\n",
            "887          888         1  ...            False          False\n",
            "888          889         0  ...            False          False\n",
            "889          890         1  ...            False          False\n",
            "890          891         0  ...            False          False\n",
            "\n",
            "[891 rows x 16 columns]\n",
            "\n",
            "Data after handle outlier for Age:\n",
            "      PassengerId  Survived  ...  Is_Outlier_Fare Is_Outlier_Age\n",
            "0              1         0  ...            False          False\n",
            "1              2         1  ...             True          False\n",
            "2              3         1  ...            False          False\n",
            "3              4         1  ...            False          False\n",
            "4              5         0  ...            False          False\n",
            "..           ...       ...  ...              ...            ...\n",
            "886          887         0  ...            False          False\n",
            "887          888         1  ...            False          False\n",
            "888          889         0  ...            False          False\n",
            "889          890         1  ...            False          False\n",
            "890          891         0  ...            False          False\n",
            "\n",
            "[891 rows x 16 columns]\n"
          ]
        }
      ]
    }
  ],
  "metadata": {
    "language_info": {
      "name": "python"
    },
    "colab": {
      "provenance": []
    },
    "kernelspec": {
      "name": "python3",
      "display_name": "Python 3"
    }
  },
  "nbformat": 4,
  "nbformat_minor": 5
}