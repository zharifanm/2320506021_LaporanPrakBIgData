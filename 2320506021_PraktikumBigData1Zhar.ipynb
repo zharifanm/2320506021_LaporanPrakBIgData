{
 "cells": [
  {
   "cell_type": "markdown",
   "metadata": {
    "id": "QyhHbIFg86KJ"
   },
   "source": [
    "# **Hands-On Pertemuan 1: Pengenalan Big Data dan Overwiew Teknologi**"
   ]
  },
  {
   "cell_type": "markdown",
   "metadata": {
    "id": "H5XYu0rAwYlE"
   },
   "source": [
    "Hands-on dalam big data adalah metode pembelajaran yang menekankan pengalaman langsung dalam menangani data berukuran besar. Hands-on mencakup serangkaian kegiatan seperti mengumpulkan data dari berbagai sumber, membersihkannya untuk memastikan kualitas dan konsistensi, serta mengolah, memanipulasi, dan menganalisis data tersebut menggunakan alat dan teknologi khusus seperti Hadoop, Spark, atau database NoSQL. Selain itu, hands-on juga melibatkan pembuatan visualisasi data untuk memudahkan pemahaman dan penyajian hasil analisis."
   ]
  },
  {
   "cell_type": "markdown",
   "metadata": {
    "id": "yjfzGNwNxmCT"
   },
   "source": [
    "## **Langkah-Langkah Hands-On**"
   ]
  },
  {
   "cell_type": "markdown",
   "metadata": {
    "id": "4axTZYb4xwUr"
   },
   "source": [
    "### 1. Instalasi Anaconda\n",
    "- **Langkah 1: Unduh dan Instal Anaconda**\n",
    "  Untuk menginstal aplikasi anaconda, kita bisa mengaksesnya melalui laman [Download Anaconda](https://www.anaconda.com/products/individual)\n",
    "  - Instal sesuai instruksi yang ada di situs web tersebut (Windows/Mac/Linux). Ikuti langkah-langkahnya hingga proses instalasi selesai.\n",
    "\n",
    "- **Langkah 2: Menginstal PySpark di Anaconda**\n",
    "  Setelah Anaconda berhasil terinstal selanjutnya, tambahkan PySpark melalui terminal pada environtment yang sebelumnya sudah kita buat:\n",
    "  ```bash\n",
    "  pip install pyspark==3.4.1\n",
    "  ```\n",
    "\n",
    "- **Langkah 3: Menginstal Pandas**\n",
    "  Untuk memudahkan data analysis, kita bisa menginstall Pandas melalui terminal:\n",
    "  ```bash\n",
    "  pip install pandas\n",
    "  ```\n",
    "\n",
    "- **Langkah 4: Menginstal Findspark**\n",
    "  ```bash\n",
    "  pip install findspark\n",
    "  ```"
   ]
  },
  {
   "cell_type": "markdown",
   "metadata": {
    "id": "CvHbrY37y9-m"
   },
   "source": [
    "## 2. Pengenalan dan Praktik Dasar Pyspark dan Pandas"
   ]
  },
  {
   "cell_type": "markdown",
   "metadata": {
    "id": "y9GCpoIrzGNR"
   },
   "source": [
    "- **Langkah 1: Membuka Jupyter Notebook**\n",
    "  Setelah instalasi selesai, buka Jupyter Notebook melalui Anaconda Navigator atau melalui terminal dengan perintah:\n",
    "  ```bash\n",
    "  jupyter notebook\n",
    "  ```\n",
    "\n",
    "- **Langkah 2: Membuat Project Notebook Baru**\n",
    "Pada Jupyter, kita bisa membuat file baru untuk membuat suatu project yang diinginkan.\n",
    "\n",
    "- **Langkah 3: Praktik dengan PySpark**\n",
    "  Buat program sederhana untuk memulai dengan PySpark. Gunakan PySpark untuk membuat DataFrame dan memanipulasi data sederhana:"
   ]
  },
  {
   "cell_type": "markdown",
   "metadata": {
    "id": "BUcxTloL9MP0"
   },
   "source": [
    "## **Pengenalan dan Paktik Dasar PySpark dan Pandas**"
   ]
  },
  {
   "cell_type": "markdown",
   "metadata": {
    "id": "x9QD8Wn292pj"
   },
   "source": [
    "**Program Dasar PySpark**"
   ]
  },
  {
   "cell_type": "code",
   "execution_count": 1,
   "metadata": {
    "id": "6sD1Z9gw9__Q"
   },
   "outputs": [],
   "source": [
    "import findspark\n",
    "findspark.init()"
   ]
  },
  {
   "cell_type": "markdown",
   "metadata": {
    "id": "DqueVFmmza3w"
   },
   "source": [
    "Kode `import findspark` dan `findspark.init()` digunakan untuk memastikan bahwa lingkungan Spark terdeteksi oleh Python, sehingga memungkinkan kita untuk menjalankan PySpark dalam program Python, terutama di lingkungan yang tidak secara otomatis mengenali instalasi Spark."
   ]
  },
  {
   "cell_type": "code",
   "execution_count": 14,
   "metadata": {
    "id": "GiJ0Ge4h-N4C",
    "outputId": "19adb78a-7168-4c50-9cb6-8341df679ac1"
   },
   "outputs": [
    {
     "name": "stdout",
     "output_type": "stream",
     "text": [
      "Data Mahasiswa:\n",
      "+-------+---+\n",
      "|   Nama|NPM|\n",
      "+-------+---+\n",
      "|Zharifa|123|\n",
      "|  Resnu|124|\n",
      "|   Dila|125|\n",
      "|   Gema|126|\n",
      "+-------+---+\n",
      "\n"
     ]
    }
   ],
   "source": [
    "from pyspark.sql import SparkSession\n",
    "\n",
    "# Memulai Spark Session\n",
    "spark = SparkSession.builder.appName(\"ManajemenKelas\").getOrCreate()\n",
    "\n",
    "# Program sederhana\n",
    "mahasiswa = [(\"Zharifa\", 123), (\"Resnu\", 124), (\"Dila\", 125), (\"Gema\", 126)]\n",
    "kolom = [\"Nama\", \"NPM\"]\n",
    "df_mahasiswa = spark.createDataFrame(mahasiswa, kolom)\n",
    "\n",
    "#menampilkan Data Frame\n",
    "print(\"Data Mahasiswa:\")\n",
    "df_mahasiswa.show()"
   ]
  },
  {
   "cell_type": "markdown",
   "metadata": {
    "id": "dSvlD-7Cz43D"
   },
   "source": [
    "Kode diatas menggunakan PySpark untuk membuat dan menampilkan DataFrame yang berisi data mahasiswa. Dimulai dengan mengimpor `SparkSession` dari PySpark, program kemudian membuat sesi Spark baru dengan nama aplikasi \"ManajemenKelas\". Selanjutnya, data mahasiswa dengan nama dan NPM (Nomor Pokok Mahasiswa) dimasukkan ke dalam daftar, dan DataFrame dibuat dari data tersebut dengan menggunakan `spark.createDataFrame()`. Terakhir, DataFrame yang berisi data mahasiswa ditampilkan menggunakan metode `show()`."
   ]
  },
  {
   "cell_type": "markdown",
   "metadata": {
    "id": "vamKNzqrCqdT"
   },
   "source": [
    "- **Tugas 1**: Jalankan kode di atas dan buat modifikasi dengan menambahkan data lain berupa kolom pekerjaan, hobi dan gender."
   ]
  },
  {
   "cell_type": "code",
   "execution_count": 15,
   "metadata": {
    "id": "TlxOqR6oDPUu",
    "outputId": "5e086d57-e3b0-475d-b824-7684e8256582"
   },
   "outputs": [
    {
     "name": "stdout",
     "output_type": "stream",
     "text": [
      "Data Mahasiswa:\n",
      "+-------+---+-------------------+-------------+----+------------+\n",
      "|   Nama|NPM|            Jurusan|         Hobi|Usia|Jeniskelamin|\n",
      "+-------+---+-------------------+-------------+----+------------+\n",
      "|Zharifa|123|Teknologi Informasi|Menonton film|  19|           P|\n",
      "|  Resnu|124|   Sistem Informasi| Bermain game|  19|           L|\n",
      "|   Dila|125|Teknologi Informasi|    Bernyanyi|  20|           P|\n",
      "|   Gema|126|Teknologi Informasi|      Membaca|  21|           L|\n",
      "+-------+---+-------------------+-------------+----+------------+\n",
      "\n"
     ]
    }
   ],
   "source": [
    "# Memulai Spark Session\n",
    "spark = SparkSession.builder.appName(\"ManajemenKelas\").getOrCreate()\n",
    "\n",
    "# Program sederhana\n",
    "mahasiswa = [(\"Zharifa\", 123, \"Teknologi Informasi\", \"Menonton film\", 19, \"P\"), (\"Resnu\", 124, \"Sistem Informasi\", \"Bermain game\", 19, \"L\"), (\"Dila\", 125, \"Teknologi Informasi\", \"Bernyanyi\", 20, \"P\"), (\"Gema\", 126, \"Teknologi Informasi\", \"Membaca\", 21, \"L\")]\n",
    "kolom = [\"Nama\", \"NPM\", \"Jurusan\", \"Hobi\", \"Usia\", \"Jeniskelamin\"]\n",
    "df_mahasiswa = spark.createDataFrame(mahasiswa, kolom)\n",
    "\n",
    "#menampilkan Data Frame\n",
    "print(\"Data Mahasiswa:\")\n",
    "df_mahasiswa.show()"
   ]
  },
  {
   "cell_type": "markdown",
   "metadata": {
    "id": "GBRMtoG40X-B"
   },
   "source": [
    "Kode diatas membuat DataFrame PySpark yang berisi informasi detail tentang mahasiswa, termasuk nama, NPM, jurusan, hobi, usia, dan jenis kelamin. Setelah memulai sesi Spark dengan nama \"ManajemenKelas\", data mahasiswa dimasukkan ke dalam daftar, dan DataFrame dibuat menggunakan `spark.createDataFrame()` dengan kolom yang sesuai. DataFrame tersebut kemudian ditampilkan dengan metode `show()`, menampilkan informasi mahasiswa dalam format tabel."
   ]
  },
  {
   "cell_type": "markdown",
   "metadata": {
    "id": "6USVr_syEUn3"
   },
   "source": [
    "### **3. Praktik PySpark Lanjutan (Memanipulasi Data)**"
   ]
  },
  {
   "cell_type": "markdown",
   "metadata": {
    "id": "nKuXDZN_v-cI"
   },
   "source": [
    "- **Tugas 2**: Lakukan filter, penghitungan rata-rata, dan pengurutan data menggunakan PySpark."
   ]
  },
  {
   "cell_type": "code",
   "execution_count": 16,
   "metadata": {
    "id": "0WP7yCVkFI70",
    "outputId": "afaeee6d-199f-493f-c442-c9acae10307c"
   },
   "outputs": [
    {
     "name": "stdout",
     "output_type": "stream",
     "text": [
      "Data Mahasiswa:\n",
      "+-------+---+-------------------+-------------+----+------------+\n",
      "|   Nama|NPM|            Jurusan|         Hobi|Usia|Jeniskelamin|\n",
      "+-------+---+-------------------+-------------+----+------------+\n",
      "|Zharifa|123|Teknologi Informasi|Menonton film|  20|           P|\n",
      "|  Resnu|124|   Sistem Informasi| Bermain game|  19|           L|\n",
      "|   Dila|125|Teknologi Informasi|    Bernyanyi|  21|           P|\n",
      "|   Gema|126|Teknologi Informasi|      Membaca|  22|           L|\n",
      "+-------+---+-------------------+-------------+----+------------+\n",
      "\n",
      "Mahasiswa berumur diatas 19 tahun:\n",
      "+-------+---+-------------------+-------------+----+------------+\n",
      "|   Nama|NPM|            Jurusan|         Hobi|Usia|Jeniskelamin|\n",
      "+-------+---+-------------------+-------------+----+------------+\n",
      "|Zharifa|123|Teknologi Informasi|Menonton film|  20|           P|\n",
      "|   Dila|125|Teknologi Informasi|    Bernyanyi|  21|           P|\n",
      "|   Gema|126|Teknologi Informasi|      Membaca|  22|           L|\n",
      "+-------+---+-------------------+-------------+----+------------+\n",
      "\n",
      "Rata-rata usia Mahasiswa\n",
      "+---------+\n",
      "|avg(Usia)|\n",
      "+---------+\n",
      "|     20.5|\n",
      "+---------+\n",
      "\n",
      "Urutan mahasiswa berdasarkan usia:\n",
      "+-------+---+-------------------+-------------+----+------------+\n",
      "|   Nama|NPM|            Jurusan|         Hobi|Usia|Jeniskelamin|\n",
      "+-------+---+-------------------+-------------+----+------------+\n",
      "|  Resnu|124|   Sistem Informasi| Bermain game|  19|           L|\n",
      "|Zharifa|123|Teknologi Informasi|Menonton film|  20|           P|\n",
      "|   Dila|125|Teknologi Informasi|    Bernyanyi|  21|           P|\n",
      "|   Gema|126|Teknologi Informasi|      Membaca|  22|           L|\n",
      "+-------+---+-------------------+-------------+----+------------+\n",
      "\n"
     ]
    }
   ],
   "source": [
    "# Memulai Spark Session\n",
    "spark = SparkSession.builder.appName(\"ManajemenKelas\").getOrCreate()\n",
    "\n",
    "# Program sederhana\n",
    "mahasiswa = [(\"Zharifa\", 123, \"Teknologi Informasi\", \"Menonton film\", 20, \"P\"), (\"Resnu\", 124, \"Sistem Informasi\", \"Bermain game\", 19, \"L\"), (\"Dila\", 125, \"Teknologi Informasi\", \"Bernyanyi\", 21, \"P\"), (\"Gema\", 126, \"Teknologi Informasi\", \"Membaca\", 22, \"L\")]\n",
    "kolom = [\"Nama\", \"NPM\", \"Jurusan\", \"Hobi\", \"Usia\", \"Jeniskelamin\"]\n",
    "df = spark.createDataFrame(mahasiswa, kolom)\n",
    "\n",
    "#menampilkan Data Frame\n",
    "print(\"Data Mahasiswa:\")\n",
    "df.show()\n",
    "\n",
    "# Filtering data\n",
    "df_filtered = df.filter(df['Usia'] > 19)\n",
    "print(\"Mahasiswa berumur diatas 19 tahun:\")\n",
    "df_filtered.show()\n",
    "\n",
    "# Menghitung rata-rata usia\n",
    "from pyspark.sql.functions import avg\n",
    "print(\"Rata-rata usia Mahasiswa\")\n",
    "df.groupBy().agg(avg(\"Usia\")).show()\n",
    "\n",
    "# Mengurutkan data berdasarkan usia\n",
    "df_sorted = df.orderBy(\"Usia\", ascending=True)\n",
    "print(\"Urutan mahasiswa berdasarkan usia:\")\n",
    "df_sorted.show()"
   ]
  },
  {
   "cell_type": "markdown",
   "metadata": {
    "id": "bVYIThWC1q4_"
   },
   "source": [
    "Kode diatas memproses data mahasiswa menggunakan PySpark dengan berbagai operasi. Pertama, DataFrame dibuat untuk menyimpan informasi mahasiswa, termasuk nama, NPM, jurusan, hobi, usia, dan jenis kelamin. Data ini melakukan operasi filter yaitu untuk menampilkan mahasiswa yang berusia di atas 19 tahun. Selanjutnya, program menghitung rata-rata usia mahasiswa menggunakan fungsi `avg` dan menampilkannya. Terakhir, data diurutkan berdasarkan usia secara naik, dari yang termuda ke yang tertua, dan hasil dari setiap operasi ditampilkan menggunakan metode `show()`."
   ]
  },
  {
   "cell_type": "markdown",
   "metadata": {
    "id": "HxBLYM-K9g5c"
   },
   "source": [
    "### **4. Praktik dengan Pandas (membuat DataFrame menggunakan Pandas)**"
   ]
  },
  {
   "cell_type": "code",
   "execution_count": 17,
   "metadata": {
    "id": "0VlxlmehFYhv",
    "outputId": "b1987a93-f75d-496a-9eb3-e9fcede3a455"
   },
   "outputs": [
    {
     "data": {
      "text/html": [
       "<div>\n",
       "<style scoped>\n",
       "    .dataframe tbody tr th:only-of-type {\n",
       "        vertical-align: middle;\n",
       "    }\n",
       "\n",
       "    .dataframe tbody tr th {\n",
       "        vertical-align: top;\n",
       "    }\n",
       "\n",
       "    .dataframe thead th {\n",
       "        text-align: right;\n",
       "    }\n",
       "</style>\n",
       "<table border=\"1\" class=\"dataframe\">\n",
       "  <thead>\n",
       "    <tr style=\"text-align: right;\">\n",
       "      <th></th>\n",
       "      <th>Nama</th>\n",
       "      <th>Usia</th>\n",
       "    </tr>\n",
       "  </thead>\n",
       "  <tbody>\n",
       "    <tr>\n",
       "      <th>0</th>\n",
       "      <td>Zharifa</td>\n",
       "      <td>20</td>\n",
       "    </tr>\n",
       "    <tr>\n",
       "      <th>1</th>\n",
       "      <td>Resnu</td>\n",
       "      <td>19</td>\n",
       "    </tr>\n",
       "    <tr>\n",
       "      <th>2</th>\n",
       "      <td>Dila</td>\n",
       "      <td>21</td>\n",
       "    </tr>\n",
       "    <tr>\n",
       "      <th>3</th>\n",
       "      <td>Gema</td>\n",
       "      <td>22</td>\n",
       "    </tr>\n",
       "  </tbody>\n",
       "</table>\n",
       "</div>"
      ],
      "text/plain": [
       "      Nama  Usia\n",
       "0  Zharifa    20\n",
       "1    Resnu    19\n",
       "2     Dila    21\n",
       "3     Gema    22"
      ]
     },
     "execution_count": 17,
     "metadata": {},
     "output_type": "execute_result"
    }
   ],
   "source": [
    "import pandas as pd\n",
    "\n",
    "# Membuat DataFrame Pandas\n",
    "data_pandas = {\"Nama\": [\"Zharifa\", \"Resnu\", \"Dila\", \"Gema\"], \"Usia\": [20, 19, 21, 22]}\n",
    "df_pandas = pd.DataFrame(data_pandas)\n",
    "\n",
    "# Menampilkan DataFrame Pandas\n",
    "df_pandas"
   ]
  },
  {
   "cell_type": "markdown",
   "metadata": {
    "id": "q5bTXCpD2Ica"
   },
   "source": [
    "Kode tersebut membuat dan menampilkan DataFrame menggunakan Pandas. DataFrame dibuat dari dictionary `data_pandas` yang berisi dua kolom: \"Nama\" dan \"Usia\", masing-masing dengan daftar nilai untuk nama mahasiswa dan usia mereka. Setelah DataFrame `df_pandas` terbentuk, isinya ditampilkan, memperlihatkan data mahasiswa dalam format tabel."
   ]
  },
  {
   "cell_type": "markdown",
   "metadata": {
    "id": "8HZGKKce-Cxi"
   },
   "source": [
    "- **Tugas 3**: Modifikasi DataFrame Pandas dengan menambahkan kolom baru dan melakukan operasi seperti filtering data berdasarkan usia"
   ]
  },
  {
   "cell_type": "code",
   "execution_count": 19,
   "metadata": {
    "id": "ZSBgX3N_-Dol",
    "outputId": "802599d7-e297-43d4-9b73-aa8534823f5f"
   },
   "outputs": [
    {
     "name": "stdout",
     "output_type": "stream",
     "text": [
      "Mahasiswa dengan Usia di atas 19 tahun:\n",
      "      Nama  Usia              Jurusan    Alamat\n",
      "0  Zharifa    20  Teknologi Informasi  Pemalang\n",
      "2     Dila    21  Teknologi Informasi    Sragen\n",
      "3     Gema    22  Teknologi Informasi    Bekasi\n"
     ]
    },
    {
     "data": {
      "text/html": [
       "<div>\n",
       "<style scoped>\n",
       "    .dataframe tbody tr th:only-of-type {\n",
       "        vertical-align: middle;\n",
       "    }\n",
       "\n",
       "    .dataframe tbody tr th {\n",
       "        vertical-align: top;\n",
       "    }\n",
       "\n",
       "    .dataframe thead th {\n",
       "        text-align: right;\n",
       "    }\n",
       "</style>\n",
       "<table border=\"1\" class=\"dataframe\">\n",
       "  <thead>\n",
       "    <tr style=\"text-align: right;\">\n",
       "      <th></th>\n",
       "      <th>Nama</th>\n",
       "      <th>Usia</th>\n",
       "      <th>Jurusan</th>\n",
       "      <th>Alamat</th>\n",
       "    </tr>\n",
       "  </thead>\n",
       "  <tbody>\n",
       "    <tr>\n",
       "      <th>0</th>\n",
       "      <td>Zharifa</td>\n",
       "      <td>20</td>\n",
       "      <td>Teknologi Informasi</td>\n",
       "      <td>Pemalang</td>\n",
       "    </tr>\n",
       "    <tr>\n",
       "      <th>1</th>\n",
       "      <td>Resnu</td>\n",
       "      <td>19</td>\n",
       "      <td>Sistem Informasi</td>\n",
       "      <td>Cilacap</td>\n",
       "    </tr>\n",
       "    <tr>\n",
       "      <th>2</th>\n",
       "      <td>Dila</td>\n",
       "      <td>21</td>\n",
       "      <td>Teknologi Informasi</td>\n",
       "      <td>Sragen</td>\n",
       "    </tr>\n",
       "    <tr>\n",
       "      <th>3</th>\n",
       "      <td>Gema</td>\n",
       "      <td>22</td>\n",
       "      <td>Teknologi Informasi</td>\n",
       "      <td>Bekasi</td>\n",
       "    </tr>\n",
       "  </tbody>\n",
       "</table>\n",
       "</div>"
      ],
      "text/plain": [
       "      Nama  Usia              Jurusan    Alamat\n",
       "0  Zharifa    20  Teknologi Informasi  Pemalang\n",
       "1    Resnu    19     Sistem Informasi   Cilacap\n",
       "2     Dila    21  Teknologi Informasi    Sragen\n",
       "3     Gema    22  Teknologi Informasi    Bekasi"
      ]
     },
     "execution_count": 19,
     "metadata": {},
     "output_type": "execute_result"
    }
   ],
   "source": [
    "import pandas as pd\n",
    "\n",
    "# Membuat DataFrame Pandas\n",
    "data_pandas = {\"Nama\": [\"Zharifa\", \"Resnu\", \"Dila\", \"Gema\"], \"Usia\": [20, 19, 21, 22]}\n",
    "df_pandas = pd.DataFrame(data_pandas)\n",
    "\n",
    "# Menambahkan Kolom baru\n",
    "df_pandas[\"Jurusan\"] = [\"Teknologi Informasi\", \"Sistem Informasi\", \"Teknologi Informasi\", \"Teknologi Informasi\"]\n",
    "df_pandas[\"Alamat\"] = [\"Pemalang\", \"Cilacap\", \"Sragen\", \"Bekasi\"]\n",
    "\n",
    "\n",
    "# Filtering data untuk mahasiswa dengan usia di atas 19 tahun\n",
    "df_filtered_usia = df_pandas[df_pandas[\"Usia\"] > 19]\n",
    "print(\"Mahasiswa dengan Usia di atas 19 tahun:\")\n",
    "print(df_filtered_usia)\n",
    "df_pandas"
   ]
  },
  {
   "cell_type": "markdown",
   "metadata": {
    "id": "V04LmCXh24ce"
   },
   "source": [
    "Kode diatas membuat DataFrame menggunakan Pandas, berisi data mahasiswa dengan kolom \"Nama\" dan \"Usia\". Setelah DataFrame `df_pandas` dibuat, dua kolom baru ditambahkan: \"Jurusan\" dan \"Alamat\", yang berisi informasi tambahan tentang jurusan dan tempat tinggal mahasiswa. Program kemudian memfilter data untuk menampilkan mahasiswa yang berusia di atas 19 tahun, dan hasilnya ditampilkan. DataFrame `df_pandas` yang telah dimodifikasi ini berisi semua informasi tersebut dalam format tabel."
   ]
  },
  {
   "cell_type": "markdown",
   "metadata": {
    "id": "9lM3qokCAN82"
   },
   "source": [
    "### **5. Praktik Pandas Lanjutan (Menggunakan Pandas untuk operasi lebih kompleks)**"
   ]
  },
  {
   "cell_type": "markdown",
   "metadata": {
    "id": "Tb1r8pstBQ24"
   },
   "source": [
    "- **Tugas 4**: Lakukan penggabungan DataFrame dan visualisasikan data dengan Pandas."
   ]
  },
  {
   "cell_type": "code",
   "execution_count": 20,
   "metadata": {
    "id": "I47xjBmCAc8l",
    "outputId": "26390bdf-35d8-442a-d4e3-c6b1329b0634"
   },
   "outputs": [
    {
     "name": "stdout",
     "output_type": "stream",
     "text": [
      "      Nama  Usia Jenis Kelamin\n",
      "0  Zharifa    20             P\n",
      "1    Resnu    19             L\n",
      "2     Dila    21             P\n",
      "3     Gema    22             L\n",
      "            Usia\n",
      "count   4.000000\n",
      "mean   20.500000\n",
      "std     1.290994\n",
      "min    19.000000\n",
      "25%    19.750000\n",
      "50%    20.500000\n",
      "75%    21.250000\n",
      "max    22.000000\n"
     ]
    },
    {
     "data": {
      "image/png": "[encoded data removed]",
      "text/plain": [
       "<Figure size 640x480 with 1 Axes>"
      ]
     },
     "metadata": {},
     "output_type": "display_data"
    }
   ],
   "source": [
    "import pandas as pd\n",
    "\n",
    "# Membuat DataFrame Pandas\n",
    "data_pandas = {\"Nama\": [\"Zharifa\", \"Resnu\", \"Dila\", \"Gema\"], \"Usia\": [20, 19, 21, 22]}\n",
    "df_pandas = pd.DataFrame(data_pandas)\n",
    "\n",
    "# Membuat DataFrame kedua\n",
    "data_pandas2 = {\"Nama\": [\"Zharifa\", \"Resnu\", \"Dila\", \"Gema\"], \"Jenis Kelamin\": [\"P\", \"L\", \"P\", \"L\"]}\n",
    "df_pandas2 = pd.DataFrame(data_pandas2)\n",
    "\n",
    "# Menggabungkan antara dua DataFrame\n",
    "df_joined = pd.merge(df_pandas, df_pandas2, on=\"Nama\")\n",
    "print(df_joined)\n",
    "\n",
    "# Menghitung statistik deskriptif\n",
    "print(df_pandas.describe())\n",
    "\n",
    "# Plotting Data\n",
    "import matplotlib.pyplot as plt\n",
    "df_pandas['Usia'].plot(kind='bar')\n",
    "plt.show()"
   ]
  },
  {
   "cell_type": "markdown",
   "metadata": {
    "id": "Kr3TSkOS4ioJ"
   },
   "source": [
    "Kode diatas melakukan beberapa operasi dengan DataFrame menggunakan Pandas. Pertama, dua DataFrame dibuat yaitu `df_pandas` yang berisi kolom \"Nama\" dan \"Usia\", dan `df_pandas2` berisi kolom \"Nama\" dan \"Jenis Kelamin\". Kedua DataFrame digabungkan berdasarkan kolom \"Nama\" menggunakan `pd.merge()`, menghasilkan DataFrame baru `df_joined` yang mengkombinasikan informasi dari kedua DataFrame. Selanjutnya, statistik deskriptif dari kolom \"Usia\" dalam `df_pandas` dihitung dan ditampilkan dengan `describe()`. Terakhir, data usia mahasiswa diplot dalam bentuk grafik batang menggunakan Matplotlib, yang diperlihatkan melalui `plt.show()`. Apabila terjadi eror pada bagian matplotlib, maka kita perlu untuk menginstalnya terlebih dahulu yaitu dengan menggunakan ```bash\n",
    "  pip install matplotlib==3.9.2\n",
    "  ```"
   ]
  },
  {
   "cell_type": "markdown",
   "metadata": {
    "id": "jQNrvzM5BnSL"
   },
   "source": [
    "### **6. Menggabungkan PySpark dan Pandas (Mengonversi DataFrame antara PySpark dan Pandas)**"
   ]
  },
  {
   "cell_type": "code",
   "execution_count": 21,
   "metadata": {
    "id": "40UwhTcZBzLO",
    "outputId": "e02b722c-5ce2-402c-b6dd-2792bf0e9578"
   },
   "outputs": [
    {
     "name": "stdout",
     "output_type": "stream",
     "text": [
      "+-------+----+\n",
      "|   Nama|Usia|\n",
      "+-------+----+\n",
      "|Zharifa|  20|\n",
      "|  Resnu|  19|\n",
      "|   Dila|  21|\n",
      "|   Gema|  22|\n",
      "+-------+----+\n",
      "\n"
     ]
    },
    {
     "data": {
      "text/plain": [
       "(      Nama  NPM              Jurusan           Hobi  Usia Jeniskelamin\n",
       " 0  Zharifa  123  Teknologi Informasi  Menonton film    20            P\n",
       " 1    Resnu  124     Sistem Informasi   Bermain game    19            L\n",
       " 2     Dila  125  Teknologi Informasi      Bernyanyi    21            P\n",
       " 3     Gema  126  Teknologi Informasi        Membaca    22            L,\n",
       " None)"
      ]
     },
     "execution_count": 21,
     "metadata": {},
     "output_type": "execute_result"
    }
   ],
   "source": [
    "# Mengonversi DataFrame dari PySpark ke Pandas\n",
    "df_pandas_from_spark = df.toPandas()\n",
    "\n",
    "# Mengonversi DataFrame dari Pandas ke PySpark\n",
    "df_spark_from_pandas = spark.createDataFrame(df_pandas)\n",
    "\n",
    "# Menampilkan DataFrame hasil konversi\n",
    "df_pandas_from_spark, df_spark_from_pandas.show()"
   ]
  },
  {
   "cell_type": "markdown",
   "metadata": {
    "id": "4oDXcRFu49SX"
   },
   "source": [
    "Kode tersebut mengonversi DataFrame antara PySpark dan Pandas. Pertama, `df.toPandas()` mengonversi DataFrame PySpark `df` menjadi DataFrame Pandas `df_pandas_from_spark`. Selanjutnya, `spark.createDataFrame(df_pandas)` mengonversi DataFrame Pandas `df_pandas` kembali menjadi DataFrame PySpark `df_spark_from_pandas`. Hasil konversi ini kemudian ditampilkan, dengan `df_pandas_from_spark` menampilkan DataFrame Pandas dan `df_spark_from_pandas.show()` menampilkan DataFrame PySpark."
   ]
  },
  {
   "cell_type": "markdown",
   "metadata": {
    "id": "Ib1HlgN8B32-"
   },
   "source": [
    "- **Tugas 5**: Gunakan metode ini untuk menggabungkan data yang Anda buat di PySpark dengan data dari Pandas, kemudian lakukan analisis sederhana seperti menghitung rata-rata usia."
   ]
  },
  {
   "cell_type": "code",
   "execution_count": 22,
   "metadata": {
    "id": "P5y4iGD6B9in",
    "outputId": "01692d4a-1008-4586-83d7-4a7e5ae8e1ac"
   },
   "outputs": [
    {
     "name": "stdout",
     "output_type": "stream",
     "text": [
      "      Nama  Usia Jenis Kelamin\n",
      "0  Zharifa    20             P\n",
      "1    Resnu    19             L\n",
      "2     Dila    21             P\n",
      "3     Gema    22             L\n",
      "+-------+----+-------------+\n",
      "|   Nama|Usia|Jenis Kelamin|\n",
      "+-------+----+-------------+\n",
      "|Zharifa|  20|            P|\n",
      "|  Resnu|  19|            L|\n",
      "|   Dila|  21|            P|\n",
      "|   Gema|  22|            L|\n",
      "+-------+----+-------------+\n",
      "\n",
      "+---------+\n",
      "|avg(Usia)|\n",
      "+---------+\n",
      "|     20.5|\n",
      "+---------+\n",
      "\n"
     ]
    }
   ],
   "source": [
    "\n",
    "import pandas as pd\n",
    "# Mengonversi DataFrame dari PySpark ke Pandas\n",
    "df_pandas_from_spark = df_mahasiswa.toPandas()\n",
    "\n",
    "# Mengonversi DataFrame Dari PySpark ke Pandas\n",
    "df_pandas_from_spark = df.toPandas()\n",
    "\n",
    "# Menggabungkan antara dua DataFrame\n",
    "df_joined = pd.merge(df_pandas, df_pandas2, on=\"Nama\")\n",
    "print(df_joined)\n",
    "\n",
    "#Mengonversi hasil gabungan\n",
    "df_spark_from_pandas = spark.createDataFrame(df_joined)\n",
    "df_spark_from_pandas.show()\n",
    "\n",
    "# Menghitung rata-rata usia\n",
    "df_spark_from_pandas.groupBy().agg(avg(\"Usia\")).show()\n"
   ]
  },
  {
   "cell_type": "markdown",
   "metadata": {
    "id": "oVB8W7mj5Lw1"
   },
   "source": [
    "Kode diatas mengonversi DataFrame antara PySpark dan Pandas serta melakukan beberapa operasi data. Pertama, DataFrame PySpark `df_mahasiswa` diubah menjadi DataFrame Pandas `df_pandas_from_spark`. Selanjutnya, DataFrame Pandas `df_pandas` dan `df_pandas2` digabungkan berdasarkan kolom \"Nama\" menggunakan `pd.merge()`, menghasilkan `df_joined`. DataFrame hasil gabungan ini kemudian diubah kembali menjadi DataFrame PySpark dengan `spark.createDataFrame()` dan ditampilkan menggunakan `show()`. Terakhir, kode menghitung rata-rata usia dari DataFrame PySpark `df_spark_from_pandas` dan menampilkan hasilnya."
   ]
  },
  {
   "cell_type": "markdown",
   "metadata": {
    "id": "wyFneT6d3SM9"
   },
   "source": [
    "### **7. Konversi Data antara PySpark dan Pandas**"
   ]
  },
  {
   "cell_type": "markdown",
   "metadata": {
    "id": "ZLY-YPzODvr9"
   },
   "source": [
    "- **Tugas 6**: Gabungkan data dari PySpark dan Pandas, lalu lakukan operasi statistik seperti menghitung nilai maksimum usia."
   ]
  },
  {
   "cell_type": "code",
   "execution_count": 32,
   "metadata": {
    "id": "QeUuyHh-C0oB",
    "outputId": "c2ecacba-a848-4e6e-e53d-45f8008ebc11"
   },
   "outputs": [
    {
     "name": "stdout",
     "output_type": "stream",
     "text": [
      "DataFrame hasil penggabungan:\n",
      "      Nama  NPM              Jurusan           Hobi  Usia_x Jeniskelamin  \\\n",
      "0  Zharifa  123  Teknologi Informasi  Menonton film      20            P   \n",
      "1    Resnu  124     Sistem Informasi   Bermain game      19            L   \n",
      "2     Dila  125  Teknologi Informasi      Bernyanyi      21            P   \n",
      "3     Gema  126  Teknologi Informasi        Membaca      22            L   \n",
      "\n",
      "   Usia_y  \n",
      "0      20  \n",
      "1      19  \n",
      "2      21  \n",
      "3      22  \n",
      "\n",
      "Nilai maksimum usia:\n",
      "Nama                        Zharifa\n",
      "NPM                             126\n",
      "Jurusan         Teknologi Informasi\n",
      "Hobi                  Menonton film\n",
      "Usia_x                           22\n",
      "Jeniskelamin                      P\n",
      "Usia_y                           22\n",
      "dtype: object\n"
     ]
    }
   ],
   "source": [
    "# Mengonversi DataFrame dari PySpark ke Pandas\n",
    "df_pandas_from_spark = df.toPandas()\n",
    "\n",
    "# Mengonversi DataFrame dari Pandas ke PySpark\n",
    "df_spark_from_pandas = spark.createDataFrame(df_pandas)\n",
    "\n",
    "# Menggabungkan antara dua DataFrame Pandas\n",
    "df_joined = pd.merge(df_pandas_from_spark, df_pandas, on=\"Nama\")\n",
    "\n",
    "# Menampilkan DataFrame hasil penggabungan\n",
    "print(\"DataFrame hasil penggabungan:\")\n",
    "print(df_joined)\n",
    "\n",
    "# Menghitung nilai maksimum usia\n",
    "print(\"\\nNilai maksimum usia:\")\n",
    "print(df_joined.max())"
   ]
  },
  {
   "cell_type": "markdown",
   "metadata": {
    "id": "0QJOI_r65oVQ"
   },
   "source": [
    "Kode ini mengonversi DataFrame PySpark `df` menjadi DataFrame Pandas `df_pandas_from_spark`, lalu menggabungkan DataFrame tersebut dengan DataFrame Pandas `df_pandas` berdasarkan kolom \"Nama\" menggunakan `pd.merge()`. Hasil gabungan disimpan dalam `df_joined` dan ditampilkan. Selanjutnya, kode menghitung nilai maksimum dari kolom \"Usia\" dalam `df_joined` dan menampilkannya."
   ]
  }
 ],
 "metadata": {
  "colab": {
   "provenance": []
  },
  "kernelspec": {
   "display_name": "Python 3 (ipykernel)",
   "language": "python",
   "name": "python3"
  },
  "language_info": {
   "codemirror_mode": {
    "name": "ipython",
    "version": 3
   },
   "file_extension": ".py",
   "mimetype": "text/x-python",
   "name": "python",
   "nbconvert_exporter": "python",
   "pygments_lexer": "ipython3",
   "version": "3.11.9"
  }
 },
 "nbformat": 4,
 "nbformat_minor": 4
}
