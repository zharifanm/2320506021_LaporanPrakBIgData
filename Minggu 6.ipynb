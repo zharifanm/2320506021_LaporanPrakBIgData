{
 "cells": [
  {
   "cell_type": "code",
   "execution_count": 1,
   "id": "690191da-6e04-47a2-beb7-f14629eb50f9",
   "metadata": {},
   "outputs": [
    {
     "name": "stdout",
     "output_type": "stream",
     "text": [
      "Requirement already satisfied: pyspark==3.4.1 in c:\\users\\zhari\\anaconda3\\envs\\prakbigdata\\lib\\site-packages (3.4.1)\n",
      "Requirement already satisfied: py4j==0.10.9.7 in c:\\users\\zhari\\anaconda3\\envs\\prakbigdata\\lib\\site-packages (from pyspark==3.4.1) (0.10.9.7)\n",
      "Note: you may need to restart the kernel to use updated packages.\n"
     ]
    }
   ],
   "source": [
    "pip install pyspark==3.4.1"
   ]
  },
  {
   "cell_type": "code",
   "execution_count": 1,
   "id": "fe4117f7-96ff-4683-88f6-6c1642850534",
   "metadata": {},
   "outputs": [
    {
     "name": "stdout",
     "output_type": "stream",
     "text": [
      "Requirement already satisfied: pandas in c:\\users\\zhari\\anaconda3\\envs\\prakbigdata\\lib\\site-packages (2.2.3)Note: you may need to restart the kernel to use updated packages.\n",
      "\n",
      "Requirement already satisfied: numpy>=1.23.2 in c:\\users\\zhari\\anaconda3\\envs\\prakbigdata\\lib\\site-packages (from pandas) (2.1.1)\n",
      "Requirement already satisfied: python-dateutil>=2.8.2 in c:\\users\\zhari\\anaconda3\\envs\\prakbigdata\\lib\\site-packages (from pandas) (2.9.0.post0)\n",
      "Requirement already satisfied: pytz>=2020.1 in c:\\users\\zhari\\anaconda3\\envs\\prakbigdata\\lib\\site-packages (from pandas) (2024.1)\n",
      "Requirement already satisfied: tzdata>=2022.7 in c:\\users\\zhari\\anaconda3\\envs\\prakbigdata\\lib\\site-packages (from pandas) (2024.2)\n",
      "Requirement already satisfied: six>=1.5 in c:\\users\\zhari\\anaconda3\\envs\\prakbigdata\\lib\\site-packages (from python-dateutil>=2.8.2->pandas) (1.16.0)\n"
     ]
    }
   ],
   "source": [
    "pip install pandas"
   ]
  },
  {
   "cell_type": "code",
   "execution_count": 2,
   "id": "0e4f2988-36ef-4bf8-ab39-02234b7e5deb",
   "metadata": {},
   "outputs": [
    {
     "name": "stdout",
     "output_type": "stream",
     "text": [
      "Requirement already satisfied: findspark in c:\\users\\zhari\\anaconda3\\envs\\prakbigdata\\lib\\site-packages (2.0.1)\n",
      "Note: you may need to restart the kernel to use updated packages.\n"
     ]
    }
   ],
   "source": [
    "pip install findspark"
   ]
  },
  {
   "cell_type": "code",
   "execution_count": 4,
   "id": "61845b6b-22ea-4709-a34a-cc6fe211f9fc",
   "metadata": {},
   "outputs": [
    {
     "name": "stdout",
     "output_type": "stream",
     "text": [
      "+------------+----------+------+\n",
      "|EmployeeName|Department|Salary|\n",
      "+------------+----------+------+\n",
      "|       James|     Sales|  3000|\n",
      "|     Michael|     Sales|  4600|\n",
      "|      Robert|     Sales|  4100|\n",
      "|       Maria|   Finance|  3000|\n",
      "+------------+----------+------+\n",
      "\n"
     ]
    }
   ],
   "source": [
    "import findspark\n",
    "findspark.init()\n",
    "\n",
    "# Contoh membuat DataFrame sederhana dan operasi dasar\n",
    "from pyspark.sql import SparkSession\n",
    "spark = SparkSession.builder.appName('HandsOnPertemuan6').getOrCreate()\n",
    "\n",
    "data = [('James', 'Sales', 3000),\n",
    "        ('Michael', 'Sales', 4600),\n",
    "        ('Robert', 'Sales', 4100),\n",
    "        ('Maria', 'Finance', 3000)]\n",
    "columns = ['EmployeeName', 'Department', 'Salary']\n",
    "\n",
    "df = spark.createDataFrame(data, schema=columns)\n",
    "df.show()"
   ]
  },
  {
   "cell_type": "code",
   "execution_count": 6,
   "id": "0af13b71-980e-4f2d-844b-d86cdf2b1cbe",
   "metadata": {},
   "outputs": [
    {
     "name": "stdout",
     "output_type": "stream",
     "text": [
      "Data Tabel Pegawai dan Salary\n",
      "+------------+------+\n",
      "|EmployeeName|Salary|\n",
      "+------------+------+\n",
      "|       James|  3000|\n",
      "|     Michael|  4600|\n",
      "|      Robert|  4100|\n",
      "|       Maria|  3000|\n",
      "+------------+------+\n",
      "\n",
      "Data Pegawai dengan Salary lebih dari 3000\n",
      "+------------+----------+------+\n",
      "|EmployeeName|Department|Salary|\n",
      "+------------+----------+------+\n",
      "|     Michael|     Sales|  4600|\n",
      "|      Robert|     Sales|  4100|\n",
      "+------------+----------+------+\n",
      "\n",
      "Rata-rata Salary Untuk Tiap Departement\n",
      "+----------+-----------+\n",
      "|Department|avg(Salary)|\n",
      "+----------+-----------+\n",
      "|     Sales|     3900.0|\n",
      "|   Finance|     3000.0|\n",
      "+----------+-----------+\n",
      "\n",
      "Ringkasan Data\n",
      "+----------+----------------+-----------------+---------------+------------+\n",
      "|Department|Rata-rata salary|Salarry Tertinggi|Salary Terendah|Total Salary|\n",
      "+----------+----------------+-----------------+---------------+------------+\n",
      "|     Sales|          3900.0|             4600|           3000|       11700|\n",
      "|   Finance|          3000.0|             3000|           3000|        3000|\n",
      "+----------+----------------+-----------------+---------------+------------+\n",
      "\n"
     ]
    }
   ],
   "source": [
    "# Contoh operasi transformasi DataFrame\n",
    "from pyspark.sql.functions import mean, max, sum, min\n",
    "\n",
    "print (\"Data Tabel Pegawai dan Salary\")\n",
    "df_select = df.select('EmployeeName', 'Salary')\n",
    "df_select.show()\n",
    "\n",
    "# Melakukan filter untuk menampilkan data dengan salary > 3000\n",
    "print(\"Data Pegawai dengan Salary lebih dari 3000\")\n",
    "df_filter = df.filter(df['Salary'] > 3000)\n",
    "df_filter.show()\n",
    "\n",
    "# Menghitung rata-rata dari data salary untuk tiap departemen\n",
    "print(\"Rata-rata Salary Untuk Tiap Departement\")\n",
    "df_groupBy = df.groupBy('Department').avg('Salary')\n",
    "df_groupBy.show()\n",
    "\n",
    "print(\"Ringkasan Data\")\n",
    "ringkasan_df = df.groupBy('Department').agg(\n",
    "    mean(\"Salary\").alias(\"Rata-rata salary\"),\n",
    "    max(\"Salary\").alias(\"Salarry Tertinggi\"),\n",
    "    min(\"Salary\").alias(\"Salary Terendah\"),\n",
    "    sum(\"Salary\").alias(\"Total Salary\")\n",
    ")\n",
    "ringkasan_df.show()"
   ]
  },
  {
   "cell_type": "code",
   "execution_count": 5,
   "id": "7431d243-8bbb-415e-ad97-2ea86c7e5f95",
   "metadata": {},
   "outputs": [
    {
     "name": "stdout",
     "output_type": "stream",
     "text": [
      "+------------+----------+------+-----------+-----------------+\n",
      "|EmployeeName|Department|Salary|SalaryBonus|TotalCompensation|\n",
      "+------------+----------+------+-----------+-----------------+\n",
      "|       James|     Sales|  3000|      300.0|           3300.0|\n",
      "|     Michael|     Sales|  4600|      460.0|           5060.0|\n",
      "|      Robert|     Sales|  4100|      410.0|           4510.0|\n",
      "|       Maria|   Finance|  3000|      300.0|           3300.0|\n",
      "+------------+----------+------+-----------+-----------------+\n",
      "\n"
     ]
    }
   ],
   "source": [
    "# Contoh manipulasi tipe data kompleks\n",
    "df = df.withColumn('SalaryBonus', df['Salary'] * 0.1)\n",
    "df = df.withColumn('TotalCompensation', df['Salary'] + df['SalaryBonus'])\n",
    "df.show()"
   ]
  },
  {
   "cell_type": "code",
   "execution_count": 6,
   "id": "499eb50a-cf33-471c-a172-74c8adce5cd9",
   "metadata": {},
   "outputs": [
    {
     "name": "stdout",
     "output_type": "stream",
     "text": [
      "+------------+----------+------+-----------+-----------------+----+\n",
      "|EmployeeName|Department|Salary|SalaryBonus|TotalCompensation|Rank|\n",
      "+------------+----------+------+-----------+-----------------+----+\n",
      "|       Maria|   Finance|  3000|      300.0|           3300.0|   1|\n",
      "|       James|     Sales|  3000|      300.0|           3300.0|   1|\n",
      "|      Robert|     Sales|  4100|      410.0|           4510.0|   2|\n",
      "|     Michael|     Sales|  4600|      460.0|           5060.0|   3|\n",
      "+------------+----------+------+-----------+-----------------+----+\n",
      "\n"
     ]
    }
   ],
   "source": [
    "# Contoh menggunakan window functions\n",
    "from pyspark.sql.window import Window\n",
    "from pyspark.sql import functions as F\n",
    "\n",
    "windowSpec = Window.partitionBy('Department').orderBy('Salary')\n",
    "df.withColumn('Rank', F.rank().over(windowSpec)).show()"
   ]
  },
  {
   "cell_type": "code",
   "execution_count": 2,
   "id": "20a160c9-eed2-40af-b15f-28b205a1ef92",
   "metadata": {},
   "outputs": [
    {
     "name": "stdout",
     "output_type": "stream",
     "text": [
      "+---+------+---------------+--------------------+-------------------+------+\n",
      "|Age|Gender|Education Level|           Job Title|Years of Experience|Salary|\n",
      "+---+------+---------------+--------------------+-------------------+------+\n",
      "| 32|  Male|     Bachelor's|   Software Engineer|                5.0| 90000|\n",
      "| 28|Female|       Master's|        Data Analyst|                3.0| 65000|\n",
      "| 45|  Male|            PhD|      Senior Manager|               15.0|150000|\n",
      "| 36|Female|     Bachelor's|     Sales Associate|                7.0| 60000|\n",
      "| 52|  Male|       Master's|            Director|               20.0|200000|\n",
      "| 29|  Male|     Bachelor's|   Marketing Analyst|                2.0| 55000|\n",
      "| 42|Female|       Master's|     Product Manager|               12.0|120000|\n",
      "| 31|  Male|     Bachelor's|       Sales Manager|                4.0| 80000|\n",
      "| 26|Female|     Bachelor's|Marketing Coordin...|                1.0| 45000|\n",
      "| 38|  Male|            PhD|    Senior Scientist|               10.0|110000|\n",
      "| 29|  Male|       Master's|  Software Developer|                3.0| 75000|\n",
      "| 48|Female|     Bachelor's|          HR Manager|               18.0|140000|\n",
      "| 35|  Male|     Bachelor's|   Financial Analyst|                6.0| 65000|\n",
      "| 40|Female|       Master's|     Project Manager|               14.0|130000|\n",
      "| 27|  Male|     Bachelor's|Customer Service Rep|                2.0| 40000|\n",
      "| 44|  Male|     Bachelor's|  Operations Manager|               16.0|125000|\n",
      "| 33|Female|       Master's|   Marketing Manager|                7.0| 90000|\n",
      "| 39|  Male|            PhD|     Senior Engineer|               12.0|115000|\n",
      "| 25|Female|     Bachelor's|    Data Entry Clerk|                0.0| 35000|\n",
      "| 51|  Male|     Bachelor's|      Sales Director|               22.0|180000|\n",
      "+---+------+---------------+--------------------+-------------------+------+\n",
      "only showing top 20 rows\n",
      "\n",
      "root\n",
      " |-- Age: integer (nullable = true)\n",
      " |-- Gender: string (nullable = true)\n",
      " |-- Education Level: string (nullable = true)\n",
      " |-- Job Title: string (nullable = true)\n",
      " |-- Years of Experience: double (nullable = true)\n",
      " |-- Salary: integer (nullable = true)\n",
      "\n",
      "Jumlah Baris dalam data :  375\n",
      "\n",
      "Salary berdasarkan gender : \n",
      "+--------------------+----+------+------+\n",
      "|           Job Title|null|Female|  Male|\n",
      "+--------------------+----+------+------+\n",
      "|Digital Marketing...|null| 90000|  null|\n",
      "|Senior Sales Manager|null|  null|265000|\n",
      "|Senior Software A...|null|  null|120000|\n",
      "|    Product Designer|null|  null| 90000|\n",
      "|   Financial Manager|null|  null|140000|\n",
      "|   Event Coordinator|null|105000|  null|\n",
      "|   Financial Analyst|null|  null| 65000|\n",
      "|Senior Product Ma...|null|120000|  null|\n",
      "|Business Intellig...|null|  null| 85000|\n",
      "|Junior Software E...|null|  null| 40000|\n",
      "|Senior IT Consultant|null|  null|220000|\n",
      "|     Sales Executive|null|  null|160000|\n",
      "|   Senior Researcher|null|  null|150000|\n",
      "|    Network Engineer|null|  null| 60000|\n",
      "|     Sales Associate|null|100000|  null|\n",
      "|Public Relations ...|null| 90000|  null|\n",
      "|Junior Business A...|null|  null|400000|\n",
      "|Junior Customer S...|null|  null| 35000|\n",
      "|Junior Operations...|null|120000|135000|\n",
      "|    VP of Operations|null|  null|190000|\n",
      "+--------------------+----+------+------+\n",
      "only showing top 20 rows\n",
      "\n",
      "+---+------+---------------+--------------------+-------------------+------+------------------+\n",
      "|Age|Gender|Education Level|           Job Title|Years of Experience|Salary|     Gaji Pertahun|\n",
      "+---+------+---------------+--------------------+-------------------+------+------------------+\n",
      "| 32|  Male|     Bachelor's|   Software Engineer|                5.0| 90000|           18000.0|\n",
      "| 28|Female|       Master's|        Data Analyst|                3.0| 65000|21666.666666666668|\n",
      "| 45|  Male|            PhD|      Senior Manager|               15.0|150000|           10000.0|\n",
      "| 36|Female|     Bachelor's|     Sales Associate|                7.0| 60000|  8571.42857142857|\n",
      "| 52|  Male|       Master's|            Director|               20.0|200000|           10000.0|\n",
      "| 29|  Male|     Bachelor's|   Marketing Analyst|                2.0| 55000|           27500.0|\n",
      "| 42|Female|       Master's|     Product Manager|               12.0|120000|           10000.0|\n",
      "| 31|  Male|     Bachelor's|       Sales Manager|                4.0| 80000|           20000.0|\n",
      "| 26|Female|     Bachelor's|Marketing Coordin...|                1.0| 45000|           45000.0|\n",
      "| 38|  Male|            PhD|    Senior Scientist|               10.0|110000|           11000.0|\n",
      "| 29|  Male|       Master's|  Software Developer|                3.0| 75000|           25000.0|\n",
      "| 48|Female|     Bachelor's|          HR Manager|               18.0|140000| 7777.777777777777|\n",
      "| 35|  Male|     Bachelor's|   Financial Analyst|                6.0| 65000|10833.333333333334|\n",
      "| 40|Female|       Master's|     Project Manager|               14.0|130000| 9285.714285714286|\n",
      "| 27|  Male|     Bachelor's|Customer Service Rep|                2.0| 40000|           20000.0|\n",
      "| 44|  Male|     Bachelor's|  Operations Manager|               16.0|125000|            7812.5|\n",
      "| 33|Female|       Master's|   Marketing Manager|                7.0| 90000|12857.142857142857|\n",
      "| 39|  Male|            PhD|     Senior Engineer|               12.0|115000| 9583.333333333334|\n",
      "| 25|Female|     Bachelor's|    Data Entry Clerk|                0.0| 35000|              null|\n",
      "| 51|  Male|     Bachelor's|      Sales Director|               22.0|180000| 8181.818181818182|\n",
      "+---+------+---------------+--------------------+-------------------+------+------------------+\n",
      "only showing top 20 rows\n",
      "\n"
     ]
    }
   ],
   "source": [
    "from pyspark.sql import SparkSession\n",
    "from pyspark.sql.functions import col\n",
    "spark = SparkSession.builder.appName(\"DataKaggle\").getOrCreate()\n",
    "\n",
    "# Membaca file\n",
    "file_path = \"/C:/Users/zhari/Downloads/Salary_Data.csv\"\n",
    "df = spark.read.csv(file_path, header = True, inferSchema = True)\n",
    "# Menampilkan data\n",
    "df.show()\n",
    "# Melihat skema atau struktur dari data\n",
    "df.printSchema()\n",
    "\n",
    "hitung_baris = df.count()\n",
    "print(\"Jumlah Baris dalam data : \", hitung_baris)\n",
    "\n",
    "print(\"\\nSalary berdasarkan gender : \")\n",
    "df.groupBy(\"Job Title\").pivot(\"Gender\").sum(\"Salary\").show()\n",
    "\n",
    "df_GajiPerTahun = df.withColumn(\"Gaji Pertahun\", col(\"Salary\") / col(\"Years of Experience\"))\n",
    "df_GajiPerTahun.show()"
   ]
  },
  {
   "cell_type": "code",
   "execution_count": null,
   "id": "adec5a4d-7755-4e13-876f-b9ddec9f633f",
   "metadata": {},
   "outputs": [],
   "source": []
  }
 ],
 "metadata": {
  "kernelspec": {
   "display_name": "Python 3 (ipykernel)",
   "language": "python",
   "name": "python3"
  },
  "language_info": {
   "codemirror_mode": {
    "name": "ipython",
    "version": 3
   },
   "file_extension": ".py",
   "mimetype": "text/x-python",
   "name": "python",
   "nbconvert_exporter": "python",
   "pygments_lexer": "ipython3",
   "version": "3.11.9"
  }
 },
 "nbformat": 4,
 "nbformat_minor": 5
}
